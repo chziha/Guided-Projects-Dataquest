{
 "cells": [
  {
   "cell_type": "markdown",
   "metadata": {},
   "source": [
    "# Is Fandango Still Inflating Ratings\n",
    "In this project, we'll explore the ratings of some of the recent movies  from Fandango to see whether there has been any change in Fandango's rating system after Hickey's report."
   ]
  },
  {
   "cell_type": "code",
   "execution_count": 1,
   "metadata": {
    "collapsed": false
   },
   "outputs": [
    {
     "name": "stdout",
     "output_type": "stream",
     "text": [
      "<class 'pandas.core.frame.DataFrame'>\n",
      "RangeIndex: 146 entries, 0 to 145\n",
      "Data columns (total 22 columns):\n",
      "FILM                          146 non-null object\n",
      "RottenTomatoes                146 non-null int64\n",
      "RottenTomatoes_User           146 non-null int64\n",
      "Metacritic                    146 non-null int64\n",
      "Metacritic_User               146 non-null float64\n",
      "IMDB                          146 non-null float64\n",
      "Fandango_Stars                146 non-null float64\n",
      "Fandango_Ratingvalue          146 non-null float64\n",
      "RT_norm                       146 non-null float64\n",
      "RT_user_norm                  146 non-null float64\n",
      "Metacritic_norm               146 non-null float64\n",
      "Metacritic_user_nom           146 non-null float64\n",
      "IMDB_norm                     146 non-null float64\n",
      "RT_norm_round                 146 non-null float64\n",
      "RT_user_norm_round            146 non-null float64\n",
      "Metacritic_norm_round         146 non-null float64\n",
      "Metacritic_user_norm_round    146 non-null float64\n",
      "IMDB_norm_round               146 non-null float64\n",
      "Metacritic_user_vote_count    146 non-null int64\n",
      "IMDB_user_vote_count          146 non-null int64\n",
      "Fandango_votes                146 non-null int64\n",
      "Fandango_Difference           146 non-null float64\n",
      "dtypes: float64(15), int64(6), object(1)\n",
      "memory usage: 25.2+ KB\n",
      "None \n",
      "\n",
      "<class 'pandas.core.frame.DataFrame'>\n",
      "RangeIndex: 214 entries, 0 to 213\n",
      "Data columns (total 15 columns):\n",
      "movie           214 non-null object\n",
      "year            214 non-null int64\n",
      "metascore       214 non-null int64\n",
      "imdb            214 non-null float64\n",
      "tmeter          214 non-null int64\n",
      "audience        214 non-null int64\n",
      "fandango        214 non-null float64\n",
      "n_metascore     214 non-null float64\n",
      "n_imdb          214 non-null float64\n",
      "n_tmeter        214 non-null float64\n",
      "n_audience      214 non-null float64\n",
      "nr_metascore    214 non-null float64\n",
      "nr_imdb         214 non-null float64\n",
      "nr_tmeter       214 non-null float64\n",
      "nr_audience     214 non-null float64\n",
      "dtypes: float64(10), int64(4), object(1)\n",
      "memory usage: 25.2+ KB\n",
      "None\n"
     ]
    }
   ],
   "source": [
    "import pandas as pd\n",
    "fandango = pd.read_csv(\"fandango_score_comparison.csv\")\n",
    "mr_16_17 = pd.read_csv(\"movie_ratings_16_17.csv\")\n",
    "\n",
    "print(fandango.info(), \"\\n\")\n",
    "print(mr_16_17.info())"
   ]
  },
  {
   "cell_type": "code",
   "execution_count": 3,
   "metadata": {
    "collapsed": false,
    "scrolled": false
   },
   "outputs": [
    {
     "name": "stdout",
     "output_type": "stream",
     "text": [
      "                             FILM  Fandango_Stars  Fandango_Ratingvalue  \\\n",
      "0  Avengers: Age of Ultron (2015)             5.0                   4.5   \n",
      "1               Cinderella (2015)             5.0                   4.5   \n",
      "2                  Ant-Man (2015)             5.0                   4.5   \n",
      "3          Do You Believe? (2015)             5.0                   4.5   \n",
      "4   Hot Tub Time Machine 2 (2015)             3.5                   3.0   \n",
      "\n",
      "   Fandango_votes  Fandango_Difference  \n",
      "0           14846                  0.5  \n",
      "1           12640                  0.5  \n",
      "2           12055                  0.5  \n",
      "3            1793                  0.5  \n",
      "4            1021                  0.5   \n",
      "\n",
      "                     movie  year  fandango\n",
      "0      10 Cloverfield Lane  2016       3.5\n",
      "1                 13 Hours  2016       4.5\n",
      "2      A Cure for Wellness  2016       3.0\n",
      "3          A Dog's Purpose  2017       4.5\n",
      "4  A Hologram for the King  2016       3.0\n"
     ]
    }
   ],
   "source": [
    "# Filter with useful columns\n",
    "before = fandango[['FILM', 'Fandango_Stars', 'Fandango_Ratingvalue', \n",
    "                          'Fandango_votes','Fandango_Difference']].copy()\n",
    "\n",
    "after = mr_16_17[['movie', 'year', 'fandango']].copy()\n",
    "\n",
    "print(before.head(), \"\\n\")\n",
    "print(after.head())"
   ]
  },
  {
   "cell_type": "markdown",
   "metadata": {},
   "source": [
    "As our goal is to determine whether there has been any change in Fandango's rating system after Hickey's analysis, we are interested in sampling populations from two different periods in time, which are before and after Hickey's analysis.\n",
    "\n",
    "These two data set are not randomly sampled, they are sampled based on specific criteria based on the specific purpose of the original researche purposes. As a result, these samples are helpful for their researches, but as useful for this project with the purpose mentioned above."
   ]
  },
  {
   "cell_type": "markdown",
   "metadata": {},
   "source": [
    "We need to change our goal based on the data sets we currently have as re-collecting required data is difficult at this time. The new goal is to determine whether there is any difference between Fandango's ratingis in 2015 and in 2016 for popular movies."
   ]
  },
  {
   "cell_type": "code",
   "execution_count": 7,
   "metadata": {
    "collapsed": false
   },
   "outputs": [
    {
     "data": {
      "text/html": [
       "<div>\n",
       "<style scoped>\n",
       "    .dataframe tbody tr th:only-of-type {\n",
       "        vertical-align: middle;\n",
       "    }\n",
       "\n",
       "    .dataframe tbody tr th {\n",
       "        vertical-align: top;\n",
       "    }\n",
       "\n",
       "    .dataframe thead th {\n",
       "        text-align: right;\n",
       "    }\n",
       "</style>\n",
       "<table border=\"1\" class=\"dataframe\">\n",
       "  <thead>\n",
       "    <tr style=\"text-align: right;\">\n",
       "      <th></th>\n",
       "      <th>movie</th>\n",
       "      <th>year</th>\n",
       "      <th>fandango</th>\n",
       "    </tr>\n",
       "  </thead>\n",
       "  <tbody>\n",
       "    <tr>\n",
       "      <th>1</th>\n",
       "      <td>13 Hours</td>\n",
       "      <td>2016</td>\n",
       "      <td>4.5</td>\n",
       "    </tr>\n",
       "    <tr>\n",
       "      <th>184</th>\n",
       "      <td>The Legend of Tarzan</td>\n",
       "      <td>2016</td>\n",
       "      <td>4.5</td>\n",
       "    </tr>\n",
       "    <tr>\n",
       "      <th>141</th>\n",
       "      <td>Sausage Party</td>\n",
       "      <td>2016</td>\n",
       "      <td>3.5</td>\n",
       "    </tr>\n",
       "    <tr>\n",
       "      <th>83</th>\n",
       "      <td>Jane Got a Gun</td>\n",
       "      <td>2016</td>\n",
       "      <td>3.5</td>\n",
       "    </tr>\n",
       "    <tr>\n",
       "      <th>99</th>\n",
       "      <td>London Has Fallen</td>\n",
       "      <td>2016</td>\n",
       "      <td>4.5</td>\n",
       "    </tr>\n",
       "    <tr>\n",
       "      <th>0</th>\n",
       "      <td>10 Cloverfield Lane</td>\n",
       "      <td>2016</td>\n",
       "      <td>3.5</td>\n",
       "    </tr>\n",
       "    <tr>\n",
       "      <th>23</th>\n",
       "      <td>Bitter Harvest</td>\n",
       "      <td>2017</td>\n",
       "      <td>4.5</td>\n",
       "    </tr>\n",
       "    <tr>\n",
       "      <th>148</th>\n",
       "      <td>Split</td>\n",
       "      <td>2016</td>\n",
       "      <td>4.0</td>\n",
       "    </tr>\n",
       "    <tr>\n",
       "      <th>124</th>\n",
       "      <td>Norm of the North</td>\n",
       "      <td>2016</td>\n",
       "      <td>3.0</td>\n",
       "    </tr>\n",
       "    <tr>\n",
       "      <th>65</th>\n",
       "      <td>Hacksaw Ridge</td>\n",
       "      <td>2016</td>\n",
       "      <td>4.5</td>\n",
       "    </tr>\n",
       "    <tr>\n",
       "      <th>18</th>\n",
       "      <td>Batman V Superman: Dawn of Justice</td>\n",
       "      <td>2016</td>\n",
       "      <td>4.0</td>\n",
       "    </tr>\n",
       "    <tr>\n",
       "      <th>87</th>\n",
       "      <td>Keanu</td>\n",
       "      <td>2016</td>\n",
       "      <td>4.0</td>\n",
       "    </tr>\n",
       "    <tr>\n",
       "      <th>16</th>\n",
       "      <td>Bad Santa 2</td>\n",
       "      <td>2016</td>\n",
       "      <td>3.5</td>\n",
       "    </tr>\n",
       "    <tr>\n",
       "      <th>34</th>\n",
       "      <td>Central Intelligence</td>\n",
       "      <td>2016</td>\n",
       "      <td>4.5</td>\n",
       "    </tr>\n",
       "    <tr>\n",
       "      <th>56</th>\n",
       "      <td>Fist Fight</td>\n",
       "      <td>2017</td>\n",
       "      <td>3.5</td>\n",
       "    </tr>\n",
       "    <tr>\n",
       "      <th>172</th>\n",
       "      <td>The Duel</td>\n",
       "      <td>2016</td>\n",
       "      <td>3.5</td>\n",
       "    </tr>\n",
       "    <tr>\n",
       "      <th>165</th>\n",
       "      <td>The Brothers Grimsby</td>\n",
       "      <td>2016</td>\n",
       "      <td>3.5</td>\n",
       "    </tr>\n",
       "    <tr>\n",
       "      <th>173</th>\n",
       "      <td>The Edge of Seventeen</td>\n",
       "      <td>2016</td>\n",
       "      <td>4.0</td>\n",
       "    </tr>\n",
       "    <tr>\n",
       "      <th>45</th>\n",
       "      <td>Eddie the Eagle</td>\n",
       "      <td>2016</td>\n",
       "      <td>4.5</td>\n",
       "    </tr>\n",
       "    <tr>\n",
       "      <th>111</th>\n",
       "      <td>Miracles from Heaven</td>\n",
       "      <td>2016</td>\n",
       "      <td>4.5</td>\n",
       "    </tr>\n",
       "  </tbody>\n",
       "</table>\n",
       "</div>"
      ],
      "text/plain": [
       "                                  movie  year  fandango\n",
       "1                              13 Hours  2016       4.5\n",
       "184                The Legend of Tarzan  2016       4.5\n",
       "141                       Sausage Party  2016       3.5\n",
       "83                       Jane Got a Gun  2016       3.5\n",
       "99                    London Has Fallen  2016       4.5\n",
       "0                   10 Cloverfield Lane  2016       3.5\n",
       "23                       Bitter Harvest  2017       4.5\n",
       "148                               Split  2016       4.0\n",
       "124                   Norm of the North  2016       3.0\n",
       "65                        Hacksaw Ridge  2016       4.5\n",
       "18   Batman V Superman: Dawn of Justice  2016       4.0\n",
       "87                                Keanu  2016       4.0\n",
       "16                          Bad Santa 2  2016       3.5\n",
       "34                 Central Intelligence  2016       4.5\n",
       "56                           Fist Fight  2017       3.5\n",
       "172                            The Duel  2016       3.5\n",
       "165                The Brothers Grimsby  2016       3.5\n",
       "173               The Edge of Seventeen  2016       4.0\n",
       "45                      Eddie the Eagle  2016       4.5\n",
       "111                Miracles from Heaven  2016       4.5"
      ]
     },
     "execution_count": 7,
     "metadata": {},
     "output_type": "execute_result"
    }
   ],
   "source": [
    "# Check if bot samples contain popular movies (over 30 fan ratings)\n",
    "after.sample(20)\n",
    "# Check from the website"
   ]
  },
  {
   "cell_type": "code",
   "execution_count": 6,
   "metadata": {
    "collapsed": false
   },
   "outputs": [
    {
     "data": {
      "text/plain": [
       "0"
      ]
     },
     "execution_count": 6,
     "metadata": {},
     "output_type": "execute_result"
    }
   ],
   "source": [
    "sum(before[\"Fandango_votes\"] < 30)"
   ]
  },
  {
   "cell_type": "code",
   "execution_count": 8,
   "metadata": {
    "collapsed": false
   },
   "outputs": [
    {
     "data": {
      "text/plain": [
       "2015    129\n",
       "2014     17\n",
       "Name: year, dtype: int64"
      ]
     },
     "execution_count": 8,
     "metadata": {},
     "output_type": "execute_result"
    }
   ],
   "source": [
    "# Isolate the movies released in 2015 and 2016 in two separate datasets\n",
    "before[\"year\"] = before[\"FILM\"].str[-5:-1]\n",
    "before[\"year\"].value_counts()"
   ]
  },
  {
   "cell_type": "code",
   "execution_count": 9,
   "metadata": {
    "collapsed": false
   },
   "outputs": [
    {
     "data": {
      "text/plain": [
       "2016    191\n",
       "2017     23\n",
       "Name: year, dtype: int64"
      ]
     },
     "execution_count": 9,
     "metadata": {},
     "output_type": "execute_result"
    }
   ],
   "source": [
    "after[\"year\"].value_counts()"
   ]
  },
  {
   "cell_type": "code",
   "execution_count": 14,
   "metadata": {
    "collapsed": false
   },
   "outputs": [
    {
     "name": "stdout",
     "output_type": "stream",
     "text": [
      "2015    129\n",
      "Name: year, dtype: int64 \n",
      "\n",
      "2016    191\n",
      "Name: year, dtype: int64\n"
     ]
    }
   ],
   "source": [
    "fandango15 = before[before[\"year\"] == \"2015\"].copy()\n",
    "fandango16 = after[after[\"year\"] == 2016].copy()\n",
    "print(fandango15[\"year\"].value_counts(), \"\\n\")\n",
    "print(fandango16[\"year\"].value_counts())"
   ]
  },
  {
   "cell_type": "code",
   "execution_count": 19,
   "metadata": {
    "collapsed": false
   },
   "outputs": [
    {
     "data": {
      "image/png": "[encoded data removed]",
      "text/plain": [
       "<matplotlib.figure.Figure at 0x7fe4a2eb17f0>"
      ]
     },
     "metadata": {},
     "output_type": "display_data"
    }
   ],
   "source": [
    "# Generate the kernel density plots for the distribution of movie ratings\n",
    "import matplotlib.pyplot as plt\n",
    "from numpy import arange\n",
    "%matplotlib inline\n",
    "\n",
    "plt.style.use('fivethirtyeight')\n",
    "\n",
    "fandango15['Fandango_Stars'].plot.kde(label = \"2015\", legend = True, figsize = (8, 6))\n",
    "fandango16['fandango'].plot.kde(label = \"2016\", legend = True)\n",
    "\n",
    "plt.title(\"Comparing distribution of Fandango ratings in 2015/2016\", y = 1.1)\n",
    "\n",
    "plt.xlabel(\"Fandango Ratings (Stars)\")\n",
    "plt.xlim(0, 5)\n",
    "plt.xticks(arange(0, 5.5, .5))\n",
    "plt.show()"
   ]
  },
  {
   "cell_type": "markdown",
   "metadata": {},
   "source": [
    "Both shapes are left-skewed and the shape for 2016 is shifted more left compared to 2015, which shows relatively lower ratings for popular movies in 2016 than in 2015."
   ]
  },
  {
   "cell_type": "code",
   "execution_count": 26,
   "metadata": {
    "collapsed": false
   },
   "outputs": [
    {
     "name": "stdout",
     "output_type": "stream",
     "text": [
      "2015: \n",
      " 3.0    0.085271\n",
      "3.5    0.178295\n",
      "4.0    0.286822\n",
      "4.5    0.379845\n",
      "5.0    0.069767\n",
      "Name: Fandango_Stars, dtype: float64 \n",
      "\n",
      "2016: \n",
      " 2.5    0.031414\n",
      "3.0    0.073298\n",
      "3.5    0.240838\n",
      "4.0    0.403141\n",
      "4.5    0.246073\n",
      "5.0    0.005236\n",
      "Name: fandango, dtype: float64\n"
     ]
    }
   ],
   "source": [
    "print(\"2015:\", \"\\n\", \n",
    "      fandango15[\"Fandango_Stars\"].value_counts(normalize = True).sort_index(), \"\\n\")\n",
    "print(\"2016:\", \"\\n\", \n",
    "      fandango16[\"fandango\"].value_counts(normalize = True).sort_index())"
   ]
  },
  {
   "cell_type": "markdown",
   "metadata": {},
   "source": [
    "High score movies (4.5 and 5.0) account for approximately 45% in 2015 and only 25% in 2016, while the medium score moveies (3.5 - 4.0) account for 26% in 2015 and a higher 31% in 2016. No movie is rated 2.5 in 2015."
   ]
  },
  {
   "cell_type": "code",
   "execution_count": 29,
   "metadata": {
    "collapsed": false
   },
   "outputs": [
    {
     "name": "stdout",
     "output_type": "stream",
     "text": [
      "            2015      2016\n",
      "mean    4.085271  3.887435\n",
      "median  4.000000  4.000000\n",
      "mode    4.500000  4.000000\n"
     ]
    }
   ],
   "source": [
    "sum_table = pd.DataFrame()\n",
    "sum_table[\"2015\"] = [fandango15[\"Fandango_Stars\"].mean(),\n",
    "                     fandango15[\"Fandango_Stars\"].median(),\n",
    "                     fandango15[\"Fandango_Stars\"].mode()[0]]\n",
    "sum_table[\"2016\"] = [fandango16[\"fandango\"].mean(),\n",
    "                     fandango16[\"fandango\"].median(),\n",
    "                     fandango16[\"fandango\"].mode()[0]]\n",
    "sum_table.index = [\"mean\", \"median\", \"mode\"]\n",
    "print(sum_table)"
   ]
  },
  {
   "cell_type": "code",
   "execution_count": 32,
   "metadata": {
    "collapsed": false
   },
   "outputs": [
    {
     "name": "stdout",
     "output_type": "stream",
     "text": [
      "The average rating in 2016 compared to 2015 decreases by  -0.04842683568951993\n"
     ]
    }
   ],
   "source": [
    "diff_ratio = (sum_table.loc[\"mean\"][1] - sum_table.loc[\"mean\"][0]) / sum_table.loc[\"mean\"][0]\n",
    "print(\"The average rating in 2016 compared to 2015 decreases by \", diff_ratio)"
   ]
  },
  {
   "cell_type": "code",
   "execution_count": 33,
   "metadata": {
    "collapsed": false
   },
   "outputs": [
    {
     "ename": "NameError",
     "evalue": "name 'summary' is not defined",
     "output_type": "error",
     "traceback": [
      "\u001b[1;31m\u001b[0m",
      "\u001b[1;31mNameError\u001b[0mTraceback (most recent call last)",
      "\u001b[1;32m<ipython-input-33-678f09b2ec41>\u001b[0m in \u001b[0;36m<module>\u001b[1;34m()\u001b[0m\n\u001b[0;32m      1\u001b[0m \u001b[0mplt\u001b[0m\u001b[1;33m.\u001b[0m\u001b[0mstyle\u001b[0m\u001b[1;33m.\u001b[0m\u001b[0muse\u001b[0m\u001b[1;33m(\u001b[0m\u001b[1;34m'fivethirtyeight'\u001b[0m\u001b[1;33m)\u001b[0m\u001b[1;33m\u001b[0m\u001b[0m\n\u001b[0;32m      2\u001b[0m \u001b[1;33m\u001b[0m\u001b[0m\n\u001b[1;32m----> 3\u001b[1;33m summary['2015'].plot.bar(color = \"blue\", align = 'center', \n\u001b[0m\u001b[0;32m      4\u001b[0m                          label = '2015', width = 0.2, figsize = (8, 6))\n\u001b[0;32m      5\u001b[0m \u001b[0msummary\u001b[0m\u001b[1;33m[\u001b[0m\u001b[1;34m'2016'\u001b[0m\u001b[1;33m]\u001b[0m\u001b[1;33m.\u001b[0m\u001b[0mplot\u001b[0m\u001b[1;33m.\u001b[0m\u001b[0mbar\u001b[0m\u001b[1;33m(\u001b[0m\u001b[0mcolor\u001b[0m \u001b[1;33m=\u001b[0m \u001b[1;34m\"red\"\u001b[0m\u001b[1;33m,\u001b[0m \u001b[0malign\u001b[0m \u001b[1;33m=\u001b[0m \u001b[1;34m'edge'\u001b[0m\u001b[1;33m,\u001b[0m \u001b[0mlabel\u001b[0m \u001b[1;33m=\u001b[0m \u001b[1;34m'2016'\u001b[0m\u001b[1;33m,\u001b[0m \u001b[0mwidth\u001b[0m \u001b[1;33m=\u001b[0m \u001b[1;36m0.2\u001b[0m\u001b[1;33m)\u001b[0m\u001b[1;33m\u001b[0m\u001b[0m\n",
      "\u001b[1;31mNameError\u001b[0m: name 'summary' is not defined"
     ]
    }
   ],
   "source": [
    "plt.style.use('fivethirtyeight')\n",
    "\n",
    "sum_table['2015'].plot.bar(color = \"blue\", align = 'center', \n",
    "                         label = '2015', width = 0.2, figsize = (8, 6))\n",
    "sum_table['2016'].plot.bar(color = \"red\", align = 'edge', label = '2016', width = 0.2)\n",
    "\n",
    "plt.title(\"Comparing summary statistics: 2015 vs 2016\")\n",
    "plt.ylim(0, 5.0)\n",
    "plt.yticks(arange(0, 5.5, 0.5))\n",
    "plt.ylabel(\"Stars\")\n",
    "plt.legend(loc = \"upper center\")\n",
    "plt.show()"
   ]
  }
 ],
 "metadata": {
  "kernelspec": {
   "display_name": "Python 3",
   "language": "python",
   "name": "python3"
  },
  "language_info": {
   "codemirror_mode": {
    "name": "ipython",
    "version": 3
   },
   "file_extension": ".py",
   "mimetype": "text/x-python",
   "name": "python",
   "nbconvert_exporter": "python",
   "pygments_lexer": "ipython3",
   "version": "3.4.3"
  }
 },
 "nbformat": 4,
 "nbformat_minor": 2
}
