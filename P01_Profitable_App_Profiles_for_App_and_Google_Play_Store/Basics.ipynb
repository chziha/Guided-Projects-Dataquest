{
 "cells": [
  {
   "cell_type": "markdown",
   "metadata": {},
   "source": [
    "# Step 1: Open the data set\n",
    "## In this project, we aim to collect and analyze data about mobile apps available on Google Play and the App store to help developers understand what types of apps are likely to attract more users.<br>We start with defining the function to read the data set row by row repeatedly, and then open the two data sets and read them. "
   ]
  },
  {
   "cell_type": "code",
   "execution_count": 1,
   "metadata": {
    "collapsed": true
   },
   "outputs": [],
   "source": [
    "def explore_data(dataset, start, end, rows_and_columns=False):\n",
    "    dataset_slice = dataset[start:end]    \n",
    "    for row in dataset_slice:\n",
    "        print(row)\n",
    "        print('\\n') # adds a new (empty) line after each row\n",
    "\n",
    "    if rows_and_columns:\n",
    "        print('Number of rows:', len(dataset))\n",
    "        print('Number of columns:', len(dataset[0]))"
   ]
  },
  {
   "cell_type": "code",
   "execution_count": 2,
   "metadata": {
    "collapsed": false
   },
   "outputs": [],
   "source": [
    "from csv import reader\n",
    "\n",
    "# open the Apple Store data sets and extract the rows into separate lists\n",
    "open_file1 = open('AppleStore.csv')\n",
    "read_file1 = reader(open_file1)\n",
    "ios = list(read_file1)\n",
    "ios_head = ios[0]\n",
    "ios_data = ios[1:]\n",
    "\n",
    "# open the Google Play Store data sets and extract the rows into separate lists\n",
    "open_file2 = open('googleplaystore.csv')\n",
    "read_file2 = reader(open_file2)\n",
    "android = list(read_file2)\n",
    "android_head = android[0]\n",
    "android_data = android[1:]"
   ]
  },
  {
   "cell_type": "markdown",
   "metadata": {},
   "source": [
    "### We read the data for ios first with the head row"
   ]
  },
  {
   "cell_type": "code",
   "execution_count": 3,
   "metadata": {
    "collapsed": false
   },
   "outputs": [
    {
     "name": "stdout",
     "output_type": "stream",
     "text": [
      "['id', 'track_name', 'size_bytes', 'currency', 'price', 'rating_count_tot', 'rating_count_ver', 'user_rating', 'user_rating_ver', 'ver', 'cont_rating', 'prime_genre', 'sup_devices.num', 'ipadSc_urls.num', 'lang.num', 'vpp_lic'] \n",
      "\n",
      "['284882215', 'Facebook', '389879808', 'USD', '0.0', '2974676', '212', '3.5', '3.5', '95.0', '4+', 'Social Networking', '37', '1', '29', '1']\n",
      "\n",
      "\n",
      "['389801252', 'Instagram', '113954816', 'USD', '0.0', '2161558', '1289', '4.5', '4.0', '10.23', '12+', 'Photo & Video', '37', '0', '29', '1']\n",
      "\n",
      "\n",
      "['529479190', 'Clash of Clans', '116476928', 'USD', '0.0', '2130805', '579', '4.5', '4.5', '9.24.12', '9+', 'Games', '38', '5', '18', '1']\n",
      "\n",
      "\n",
      "Number of rows: 7197\n",
      "Number of columns: 16\n"
     ]
    }
   ],
   "source": [
    "# use the defined function to show the first several rows of the data sets\n",
    "print(ios_head, '\\n')\n",
    "explore_data(ios_data, 0, 3, True)"
   ]
  },
  {
   "cell_type": "markdown",
   "metadata": {},
   "source": [
    "### We then read android data with the head"
   ]
  },
  {
   "cell_type": "code",
   "execution_count": 4,
   "metadata": {
    "collapsed": false
   },
   "outputs": [
    {
     "name": "stdout",
     "output_type": "stream",
     "text": [
      "['App', 'Category', 'Rating', 'Reviews', 'Size', 'Installs', 'Type', 'Price', 'Content Rating', 'Genres', 'Last Updated', 'Current Ver', 'Android Ver'] \n",
      "\n",
      "['Photo Editor & Candy Camera & Grid & ScrapBook', 'ART_AND_DESIGN', '4.1', '159', '19M', '10,000+', 'Free', '0', 'Everyone', 'Art & Design', 'January 7, 2018', '1.0.0', '4.0.3 and up']\n",
      "\n",
      "\n",
      "['Coloring book moana', 'ART_AND_DESIGN', '3.9', '967', '14M', '500,000+', 'Free', '0', 'Everyone', 'Art & Design;Pretend Play', 'January 15, 2018', '2.0.0', '4.0.3 and up']\n",
      "\n",
      "\n",
      "['U Launcher Lite – FREE Live Cool Themes, Hide Apps', 'ART_AND_DESIGN', '4.7', '87510', '8.7M', '5,000,000+', 'Free', '0', 'Everyone', 'Art & Design', 'August 1, 2018', '1.2.4', '4.0.3 and up']\n",
      "\n",
      "\n",
      "Number of rows: 10841\n",
      "Number of columns: 13\n"
     ]
    }
   ],
   "source": [
    "print(android_head, '\\n')\n",
    "explore_data(android_data, 0, 3, True)"
   ]
  },
  {
   "cell_type": "markdown",
   "metadata": {},
   "source": [
    "### All the column names of both data sets are listed above and the detailed explanantion for these header can be found here for [AppleStore](https://www.kaggle.com/ramamet4/app-store-apple-data-set-10k-apps/home) and [GooglePlayStore](https://www.kaggle.com/lava18/google-play-store-apps/home).<br>We can see that the useful columns for ios include 'track_name', 'currency', 'price', 'rating_count_tot', 'rating_count_ver', 'user_rating', and 'prime_genre'. For android, the useful columns include 'App', 'Category', 'Rating', 'Reviews', 'Installs', 'Type', 'Price', and 'Genres'."
   ]
  },
  {
   "cell_type": "markdown",
   "metadata": {
    "collapsed": true
   },
   "source": [
    "# Step 2: Data cleaning\n",
    "## Before analyzing data, we need to remove or correct wrong data. Here, we need to remove all the data for apps that are either not free or in English"
   ]
  },
  {
   "cell_type": "code",
   "execution_count": 5,
   "metadata": {
    "collapsed": false
   },
   "outputs": [
    {
     "name": "stdout",
     "output_type": "stream",
     "text": [
      "['Life Made WI-Fi Touchscreen Photo Frame', '1.9', '19', '3.0M', '1,000+', 'Free', '0', 'Everyone', '', 'February 11, 2018', '1.0.19', '4.0 and up'] \n",
      "\n",
      "['App', 'Category', 'Rating', 'Reviews', 'Size', 'Installs', 'Type', 'Price', 'Content Rating', 'Genres', 'Last Updated', 'Current Ver', 'Android Ver'] \n",
      "\n"
     ]
    }
   ],
   "source": [
    "print(android_data[10472], '\\n')  # the incorrect row according to the report\n",
    "print(android[0], '\\n')      # compared to the head row\n",
    "\n",
    "### if didn't find the exact row, search through the whole data set to check if that row still exists and has the error ###\n",
    "#for row in android_data:\n",
    "#    if row[0] == 'Life Made WI-Fi Touchscreen Photo Frame':\n",
    "#        print(row, '\\n')\n",
    "#        print(android_data.index(row))"
   ]
  },
  {
   "cell_type": "code",
   "execution_count": 6,
   "metadata": {
    "collapsed": false
   },
   "outputs": [
    {
     "name": "stdout",
     "output_type": "stream",
     "text": [
      "10840\n"
     ]
    }
   ],
   "source": [
    "# now delete this entry with the error of missing category\n",
    "del android_data[10472]\n",
    "print(len(android_data))"
   ]
  },
  {
   "cell_type": "code",
   "execution_count": 7,
   "metadata": {
    "collapsed": false
   },
   "outputs": [],
   "source": [
    "# found a possible duplicate error in Apple Store and delete one of them\n",
    "#for row in ios_data:\n",
    "#    if row[1] == 'Mannequin Challenge':\n",
    "#        print(row, '\\n')\n",
    "#        print(ios_data.index(row))"
   ]
  },
  {
   "cell_type": "code",
   "execution_count": 8,
   "metadata": {
    "collapsed": false
   },
   "outputs": [],
   "source": [
    "#del ios_data[4463]\n",
    "#print(len(ios_data))"
   ]
  },
  {
   "cell_type": "markdown",
   "metadata": {},
   "source": [
    "# Step 3: Removing duplicate entries\n",
    "## We found that some of the apps have duplicate entries and we should find out all the duplicates and remove them"
   ]
  },
  {
   "cell_type": "markdown",
   "metadata": {
    "collapsed": true
   },
   "source": [
    "### As we learned, there exist some duplicated entries for the same app in the data set for android like Instagram "
   ]
  },
  {
   "cell_type": "code",
   "execution_count": 9,
   "metadata": {
    "collapsed": false
   },
   "outputs": [
    {
     "name": "stdout",
     "output_type": "stream",
     "text": [
      "['Instagram', 'SOCIAL', '4.5', '66577313', 'Varies with device', '1,000,000,000+', 'Free', '0', 'Teen', 'Social', 'July 31, 2018', 'Varies with device', 'Varies with device']\n",
      "['Instagram', 'SOCIAL', '4.5', '66577446', 'Varies with device', '1,000,000,000+', 'Free', '0', 'Teen', 'Social', 'July 31, 2018', 'Varies with device', 'Varies with device']\n",
      "['Instagram', 'SOCIAL', '4.5', '66577313', 'Varies with device', '1,000,000,000+', 'Free', '0', 'Teen', 'Social', 'July 31, 2018', 'Varies with device', 'Varies with device']\n",
      "['Instagram', 'SOCIAL', '4.5', '66509917', 'Varies with device', '1,000,000,000+', 'Free', '0', 'Teen', 'Social', 'July 31, 2018', 'Varies with device', 'Varies with device']\n"
     ]
    }
   ],
   "source": [
    "# search for the duplicates of Instagram\n",
    "for row in android_data:\n",
    "    if row[0] == 'Instagram':\n",
    "        print(row)"
   ]
  },
  {
   "cell_type": "markdown",
   "metadata": {},
   "source": [
    "### Now we need to define the funcation to count the number of duplicates in the data set"
   ]
  },
  {
   "cell_type": "code",
   "execution_count": 10,
   "metadata": {
    "collapsed": false
   },
   "outputs": [
    {
     "name": "stdout",
     "output_type": "stream",
     "text": [
      "The number of non-duplicated entries is  9659\n",
      "The number of duplicated entries is  1181\n"
     ]
    }
   ],
   "source": [
    "# create two lists to store entries into two categories and count the numbers \n",
    "list_no_duplicate = []\n",
    "list_duplicate = []\n",
    "\n",
    "for row in android_data:\n",
    "    name = row[0]\n",
    "    if name in list_no_duplicate:\n",
    "        list_duplicate.append(name)\n",
    "    else:\n",
    "        list_no_duplicate.append(name)\n",
    "        \n",
    "print('The number of non-duplicated entries is ', len(list_no_duplicate))  \n",
    "print('The number of duplicated entries is ', len(list_duplicate))"
   ]
  },
  {
   "cell_type": "markdown",
   "metadata": {},
   "source": [
    "### The reason we do not want to randomly remove the duplicates (in the order of searching) is that it is a better way to keep the entries with the highest number of reviews received and remove all the duplicated entries left, as most reviews received mean that this entry is the most recent one.<br>To reach this, we will begin with creating a dictionary using apps' names as keys and corresponding numbers of reviews as values, and then use this dictionary to remove the entries."
   ]
  },
  {
   "cell_type": "code",
   "execution_count": 11,
   "metadata": {
    "collapsed": false
   },
   "outputs": [
    {
     "name": "stdout",
     "output_type": "stream",
     "text": [
      "The length of the dictionary is correct:  True , and should be  9659\n"
     ]
    }
   ],
   "source": [
    "# create the dictionary to store app names and corresponding max number of reviews\n",
    "reviews_max = {}\n",
    "\n",
    "for row in android_data:\n",
    "    name = row[0]\n",
    "    n_reviews = float(row[3])\n",
    "    if name in reviews_max and n_reviews > reviews_max[name]: # update if with more reviews\n",
    "        reviews_max[name] = n_reviews\n",
    "    elif name not in reviews_max: # store the new entries\n",
    "        reviews_max[name] = n_reviews\n",
    "# check the if the number of entries in the dictionary is correct\n",
    "print('The length of the dictionary is correct: ', len(reviews_max) == len(list_no_duplicate), ', and should be ', len(list_no_duplicate))"
   ]
  },
  {
   "cell_type": "markdown",
   "metadata": {},
   "source": [
    "### We remove the duplicated by adding the rows with the exact numbers of reviews as stored in the dictionary reviews_max into a new list named android_clean. We loop through the whole data set and in each iteration, we have the name of the app and the number of reviews and we add the current row to the android_clean, and the app name to the already_cleaned list if the number of reviews of the current app is exactly the same as the number of reviews of that app as in the dictionary and the name of the app is not already in the already_added list.<br>The already_cleaned list is necessary to exclude those duplicate entries with the same numbers of reviews."
   ]
  },
  {
   "cell_type": "code",
   "execution_count": 12,
   "metadata": {
    "collapsed": false
   },
   "outputs": [
    {
     "name": "stdout",
     "output_type": "stream",
     "text": [
      "['Photo Editor & Candy Camera & Grid & ScrapBook', 'ART_AND_DESIGN', '4.1', '159', '19M', '10,000+', 'Free', '0', 'Everyone', 'Art & Design', 'January 7, 2018', '1.0.0', '4.0.3 and up']\n",
      "\n",
      "\n",
      "Number of rows: 9659\n",
      "Number of columns: 13\n"
     ]
    }
   ],
   "source": [
    "android_clean = [] # empty list to store new cleaned data set\n",
    "already_added = [] # empty list to store app names that are already added\n",
    "\n",
    "for row in android_data:\n",
    "    name = row[0]\n",
    "    n_reviews = float(row[3])\n",
    "    if name not in already_added and n_reviews == reviews_max[name]:\n",
    "        android_clean.append(row)\n",
    "        already_added.append(name)\n",
    "        \n",
    "explore_data(android_clean, 0, 1, True)"
   ]
  },
  {
   "cell_type": "markdown",
   "metadata": {},
   "source": [
    "# Step 4: Removing apps not in English\n",
    "## Firstly, we need to write a function to check wether the name is in English"
   ]
  },
  {
   "cell_type": "code",
   "execution_count": 13,
   "metadata": {
    "collapsed": false,
    "scrolled": true
   },
   "outputs": [
    {
     "name": "stdout",
     "output_type": "stream",
     "text": [
      "True\n",
      "False\n",
      "False\n",
      "8482\n",
      "False\n",
      "128540\n"
     ]
    }
   ],
   "source": [
    "def check_english(a_string):\n",
    "    for character in a_string:\n",
    "        if ord(character) > 127:\n",
    "            return False # return False immediately when one character is falling outside the range\n",
    "        \n",
    "    return True\n",
    "\n",
    "# some tests\n",
    "print(check_english('Instagram'))\n",
    "print(check_english('爱奇艺PPS -《欢乐颂2》电视剧热播'))\n",
    "print(check_english('Docs To Go™ Free Office Suite'))\n",
    "print(ord('™'))\n",
    "print(check_english('Instachat 😜'))\n",
    "print(ord('😜'))"
   ]
  },
  {
   "cell_type": "markdown",
   "metadata": {},
   "source": [
    "### As we showed above, some characters listed like emojis and special ones have corresponding number larger than 127 but still belong to the category we want to keep, so we do not want to remove these entries which may result in losing useful data.<br>To solve this, we will only remove the entries with more than three characters falling outside the ASCII range."
   ]
  },
  {
   "cell_type": "code",
   "execution_count": 14,
   "metadata": {
    "collapsed": false
   },
   "outputs": [
    {
     "name": "stdout",
     "output_type": "stream",
     "text": [
      "False\n",
      "True\n",
      "True\n"
     ]
    }
   ],
   "source": [
    "def check_english_updated(a_string):\n",
    "    non_ASCII = 0 # count the number of characters falling outside the range\n",
    "    for character in a_string:\n",
    "        if ord(character) > 127:\n",
    "            non_ASCII += 1\n",
    "    if non_ASCII > 3: # only reject with more than 3 characters falling outside the range\n",
    "        return False\n",
    "    else:\n",
    "        return True\n",
    "    \n",
    "# tests on the previous ones with emojis and special characters\n",
    "print(check_english('爱奇艺PPS -《欢乐颂2》电视剧热播'))\n",
    "print(check_english_updated('Docs To Go™ Free Office Suite'))\n",
    "print(check_english_updated('Instachat 😜'))\n",
    "    "
   ]
  },
  {
   "cell_type": "markdown",
   "metadata": {},
   "source": [
    "### Now we use this filter to remove all the entries with more than three characters falling outside the range"
   ]
  },
  {
   "cell_type": "code",
   "execution_count": 15,
   "metadata": {
    "collapsed": false
   },
   "outputs": [
    {
     "name": "stdout",
     "output_type": "stream",
     "text": [
      "['Photo Editor & Candy Camera & Grid & ScrapBook', 'ART_AND_DESIGN', '4.1', '159', '19M', '10,000+', 'Free', '0', 'Everyone', 'Art & Design', 'January 7, 2018', '1.0.0', '4.0.3 and up']\n",
      "\n",
      "\n",
      "['U Launcher Lite – FREE Live Cool Themes, Hide Apps', 'ART_AND_DESIGN', '4.7', '87510', '8.7M', '5,000,000+', 'Free', '0', 'Everyone', 'Art & Design', 'August 1, 2018', '1.2.4', '4.0.3 and up']\n",
      "\n",
      "\n",
      "['Sketch - Draw & Paint', 'ART_AND_DESIGN', '4.5', '215644', '25M', '50,000,000+', 'Free', '0', 'Teen', 'Art & Design', 'June 8, 2018', 'Varies with device', '4.2 and up']\n",
      "\n",
      "\n",
      "Number of rows: 9614\n",
      "Number of columns: 13\n",
      "\n",
      "\n",
      "['284882215', 'Facebook', '389879808', 'USD', '0.0', '2974676', '212', '3.5', '3.5', '95.0', '4+', 'Social Networking', '37', '1', '29', '1']\n",
      "\n",
      "\n",
      "['389801252', 'Instagram', '113954816', 'USD', '0.0', '2161558', '1289', '4.5', '4.0', '10.23', '12+', 'Photo & Video', '37', '0', '29', '1']\n",
      "\n",
      "\n",
      "['529479190', 'Clash of Clans', '116476928', 'USD', '0.0', '2130805', '579', '4.5', '4.5', '9.24.12', '9+', 'Games', '38', '5', '18', '1']\n",
      "\n",
      "\n",
      "Number of rows: 6183\n",
      "Number of columns: 16\n"
     ]
    }
   ],
   "source": [
    "android_clean_english = [] # empty list to store the filtered entries\n",
    "ios_data_english = []\n",
    "\n",
    "for row in android_clean:\n",
    "    name = row[0]\n",
    "    if check_english_updated(name):\n",
    "        android_clean_english.append(row)\n",
    "\n",
    "for row in ios_data:\n",
    "    name = row[1]\n",
    "    if check_english_updated(name):\n",
    "        ios_data_english.append(row)\n",
    "        \n",
    "explore_data(android_clean_english, 0, 3, True)\n",
    "print('\\n')\n",
    "explore_data(ios_data_english, 0, 3, True)"
   ]
  },
  {
   "cell_type": "markdown",
   "metadata": {},
   "source": [
    "# Step 5: Remove apps not free"
   ]
  },
  {
   "cell_type": "code",
   "execution_count": 16,
   "metadata": {
    "collapsed": false
   },
   "outputs": [
    {
     "name": "stdout",
     "output_type": "stream",
     "text": [
      "['Photo Editor & Candy Camera & Grid & ScrapBook', 'ART_AND_DESIGN', '4.1', '159', '19M', '10,000+', 'Free', '0', 'Everyone', 'Art & Design', 'January 7, 2018', '1.0.0', '4.0.3 and up']\n",
      "\n",
      "\n",
      "['U Launcher Lite – FREE Live Cool Themes, Hide Apps', 'ART_AND_DESIGN', '4.7', '87510', '8.7M', '5,000,000+', 'Free', '0', 'Everyone', 'Art & Design', 'August 1, 2018', '1.2.4', '4.0.3 and up']\n",
      "\n",
      "\n",
      "['Sketch - Draw & Paint', 'ART_AND_DESIGN', '4.5', '215644', '25M', '50,000,000+', 'Free', '0', 'Teen', 'Art & Design', 'June 8, 2018', 'Varies with device', '4.2 and up']\n",
      "\n",
      "\n",
      "Number of rows: 8864\n",
      "Number of columns: 13\n",
      "\n",
      "\n",
      "['284882215', 'Facebook', '389879808', 'USD', '0.0', '2974676', '212', '3.5', '3.5', '95.0', '4+', 'Social Networking', '37', '1', '29', '1']\n",
      "\n",
      "\n",
      "['389801252', 'Instagram', '113954816', 'USD', '0.0', '2161558', '1289', '4.5', '4.0', '10.23', '12+', 'Photo & Video', '37', '0', '29', '1']\n",
      "\n",
      "\n",
      "['529479190', 'Clash of Clans', '116476928', 'USD', '0.0', '2130805', '579', '4.5', '4.5', '9.24.12', '9+', 'Games', '38', '5', '18', '1']\n",
      "\n",
      "\n",
      "Number of rows: 3222\n",
      "Number of columns: 16\n"
     ]
    }
   ],
   "source": [
    "android_clean_english_free = [] # empty lists to store filtered entries for free apps\n",
    "ios_data_english_free = []\n",
    "\n",
    "for row in android_clean_english:\n",
    "    if row[7] == '0':\n",
    "        android_clean_english_free.append(row)\n",
    "\n",
    "for row in ios_data_english:\n",
    "    if row[4] == '0.0':\n",
    "        ios_data_english_free.append(row)\n",
    "        \n",
    "explore_data(android_clean_english_free, 0, 3, True)\n",
    "print('\\n')\n",
    "explore_data(ios_data_english_free, 0, 3, True)"
   ]
  },
  {
   "cell_type": "markdown",
   "metadata": {},
   "source": [
    "# Step 6: Find the most common genres for each market\n",
    "## We need to build a frequency table for each data set"
   ]
  },
  {
   "cell_type": "markdown",
   "metadata": {},
   "source": [
    "### Since we hope to determine which kinds of apps (free and in engilish) would be likely to attract more users in both markets as usually more users bring higher revenue.<br>To minimize risks and overhead, our validation strategy for an app idea is comprised of three steps:\n",
    "* Build a minimal Android version of the app, and add it to Google Play.\n",
    "* If the app has a good response from users, we then develop it further.\n",
    "* If the app is profitable after six months, we also build an iOS version of the app and add it to the App Store.\n",
    "\n",
    "### Because our ultimate goal is to add the app on both the App Store and Google Play, we need to find app types that are successful on both markets. As a result, we will start with the analysis by getting a sense of the most common genres for each market by building a frequency table for the prime_genre column of the App Store data set and the Genres and Category columns of the Google Play data set."
   ]
  },
  {
   "cell_type": "code",
   "execution_count": 17,
   "metadata": {
    "collapsed": false
   },
   "outputs": [
    {
     "name": "stdout",
     "output_type": "stream",
     "text": [
      "Games : 58.16263190564867\n",
      "Entertainment : 7.883302296710118\n",
      "Photo & Video : 4.9658597144630665\n",
      "Education : 3.662321539416512\n",
      "Social Networking : 3.2898820608317814\n",
      "Shopping : 2.60707635009311\n",
      "Utilities : 2.5139664804469275\n",
      "Sports : 2.1415270018621975\n",
      "Music : 2.0484171322160147\n",
      "Health & Fitness : 2.0173805090006205\n",
      "Productivity : 1.7380509000620732\n",
      "Lifestyle : 1.5828677839851024\n",
      "News : 1.3345747982619491\n",
      "Travel : 1.2414649286157666\n",
      "Finance : 1.1173184357541899\n",
      "Weather : 0.8690254500310366\n",
      "Food & Drink : 0.8069522036002483\n",
      "Reference : 0.5586592178770949\n",
      "Business : 0.5276225946617008\n",
      "Book : 0.4345127250155183\n",
      "Navigation : 0.186219739292365\n",
      "Medical : 0.186219739292365\n",
      "Catalogs : 0.12414649286157665\n"
     ]
    }
   ],
   "source": [
    "# define a function to generate the frequency table firstly\n",
    "def freq_table(dataset, index):\n",
    "    table = {}\n",
    "    count = 0\n",
    "    for row in dataset:\n",
    "        key = row[index]\n",
    "        count += 1 # count the total number of entries\n",
    "        if key in table:\n",
    "            table[key] += 1\n",
    "        else:\n",
    "            table[key] = 1\n",
    "    \n",
    "    for key in table:\n",
    "        table[key] = table[key] / count * 100 # transform into percentage\n",
    "\n",
    "    return table\n",
    "\n",
    "# define the function to transforms the frequency table into a list of tuples and sorts the list in a descending order\n",
    "def display_table(dataset, index):\n",
    "    table = freq_table(dataset, index)\n",
    "    table_display = []\n",
    "    for key in table:\n",
    "        key_val_as_tuple = (table[key], key)\n",
    "        table_display.append(key_val_as_tuple)\n",
    "\n",
    "    table_sorted = sorted(table_display, reverse = True)\n",
    "    for entry in table_sorted:\n",
    "        print(entry[1], ':', entry[0])\n",
    "        \n",
    "display_table(ios_data_english_free, 11)"
   ]
  },
  {
   "cell_type": "markdown",
   "metadata": {},
   "source": [
    "We can clearly see that, among all the free English apps, the most popular genre is 'games' that counts more than half by around 58.16%. The runner-up is the entertainment genre, which accounts for 7.88%. All other genres each account for less than 5%. The Photo & Video apps come next by 4.97% with the education and social newtworking rank in 4th and 5th, respectively. Only 10 genres have the share over 2%.\n",
    "\n",
    "The general impression is that in the App Store for free English apps, the apps that are designed for fun (games, entertainment, photo and video, social networking, sports, music, etc.) dominates while the apps with practical purposes (education, shopping, utilities, productivity, lifestyle, etc.) are much less.\n",
    "\n",
    "However, we still cannot recommend which app profile based on the frequency table alone, as a large number of available apps in one genre does not necessarily imply that apps of that genre generally have a large number of users."
   ]
  },
  {
   "cell_type": "code",
   "execution_count": 18,
   "metadata": {
    "collapsed": false
   },
   "outputs": [
    {
     "name": "stdout",
     "output_type": "stream",
     "text": [
      "FAMILY : 18.907942238267147\n",
      "GAME : 9.724729241877256\n",
      "TOOLS : 8.461191335740072\n",
      "BUSINESS : 4.591606498194946\n",
      "LIFESTYLE : 3.9034296028880866\n",
      "PRODUCTIVITY : 3.892148014440433\n",
      "FINANCE : 3.7003610108303246\n",
      "MEDICAL : 3.531137184115524\n",
      "SPORTS : 3.395758122743682\n",
      "PERSONALIZATION : 3.3167870036101084\n",
      "COMMUNICATION : 3.2378158844765346\n",
      "HEALTH_AND_FITNESS : 3.0798736462093865\n",
      "PHOTOGRAPHY : 2.944494584837545\n",
      "NEWS_AND_MAGAZINES : 2.7978339350180503\n",
      "SOCIAL : 2.6624548736462095\n",
      "TRAVEL_AND_LOCAL : 2.33528880866426\n",
      "SHOPPING : 2.2450361010830324\n",
      "BOOKS_AND_REFERENCE : 2.1435018050541514\n",
      "DATING : 1.861462093862816\n",
      "VIDEO_PLAYERS : 1.7937725631768955\n",
      "MAPS_AND_NAVIGATION : 1.3989169675090252\n",
      "FOOD_AND_DRINK : 1.2409747292418771\n",
      "EDUCATION : 1.1620036101083033\n",
      "ENTERTAINMENT : 0.9589350180505415\n",
      "LIBRARIES_AND_DEMO : 0.9363718411552346\n",
      "AUTO_AND_VEHICLES : 0.9250902527075812\n",
      "HOUSE_AND_HOME : 0.8235559566787004\n",
      "WEATHER : 0.8009927797833934\n",
      "EVENTS : 0.7107400722021661\n",
      "PARENTING : 0.6543321299638989\n",
      "ART_AND_DESIGN : 0.6430505415162455\n",
      "COMICS : 0.6204873646209386\n",
      "BEAUTY : 0.5979241877256317\n"
     ]
    }
   ],
   "source": [
    "display_table(android_clean_english_free, 1)"
   ]
  },
  {
   "cell_type": "markdown",
   "metadata": {},
   "source": [
    "The pattern here in Google Play Store is very different that the percentages of apps designed for fun (games, entertainment, photo and video, social networking, sports, music, etc.) is much lower while apps designed for practical purposes (family, tools, business, lifestyle, productivity, etc.) have a much higher share. But on the other hand, this depends on how these stores categorize the apps. For example, the family category with the highest percentage here by around 18.9% actually consists of mostly games for kids, which can be seen as apps designed for fun instead of practical purposes. Nevertheless, the practical apps in Google Play Store still have a higher share compared to App Store."
   ]
  },
  {
   "cell_type": "code",
   "execution_count": 19,
   "metadata": {
    "collapsed": false
   },
   "outputs": [
    {
     "name": "stdout",
     "output_type": "stream",
     "text": [
      "Tools : 8.449909747292418\n",
      "Entertainment : 6.069494584837545\n",
      "Education : 5.347472924187725\n",
      "Business : 4.591606498194946\n",
      "Productivity : 3.892148014440433\n",
      "Lifestyle : 3.892148014440433\n",
      "Finance : 3.7003610108303246\n",
      "Medical : 3.531137184115524\n",
      "Sports : 3.463447653429603\n",
      "Personalization : 3.3167870036101084\n",
      "Communication : 3.2378158844765346\n",
      "Action : 3.1024368231046933\n",
      "Health & Fitness : 3.0798736462093865\n",
      "Photography : 2.944494584837545\n",
      "News & Magazines : 2.7978339350180503\n",
      "Social : 2.6624548736462095\n",
      "Travel & Local : 2.3240072202166067\n",
      "Shopping : 2.2450361010830324\n",
      "Books & Reference : 2.1435018050541514\n",
      "Simulation : 2.0419675090252705\n",
      "Dating : 1.861462093862816\n",
      "Arcade : 1.8501805054151623\n",
      "Video Players & Editors : 1.7712093862815883\n",
      "Casual : 1.7599277978339352\n",
      "Maps & Navigation : 1.3989169675090252\n",
      "Food & Drink : 1.2409747292418771\n",
      "Puzzle : 1.128158844765343\n",
      "Racing : 0.9927797833935018\n",
      "Role Playing : 0.9363718411552346\n",
      "Libraries & Demo : 0.9363718411552346\n",
      "Auto & Vehicles : 0.9250902527075812\n",
      "Strategy : 0.9138086642599278\n",
      "House & Home : 0.8235559566787004\n",
      "Weather : 0.8009927797833934\n",
      "Events : 0.7107400722021661\n",
      "Adventure : 0.6768953068592057\n",
      "Comics : 0.6092057761732852\n",
      "Beauty : 0.5979241877256317\n",
      "Art & Design : 0.5979241877256317\n",
      "Parenting : 0.4963898916967509\n",
      "Card : 0.45126353790613716\n",
      "Casino : 0.42870036101083037\n",
      "Trivia : 0.41741877256317694\n",
      "Educational;Education : 0.39485559566787\n",
      "Board : 0.3835740072202166\n",
      "Educational : 0.3722924187725632\n",
      "Education;Education : 0.33844765342960287\n",
      "Word : 0.2594765342960289\n",
      "Casual;Pretend Play : 0.236913357400722\n",
      "Music : 0.2030685920577617\n",
      "Racing;Action & Adventure : 0.16922382671480143\n",
      "Puzzle;Brain Games : 0.16922382671480143\n",
      "Entertainment;Music & Video : 0.16922382671480143\n",
      "Casual;Brain Games : 0.13537906137184114\n",
      "Casual;Action & Adventure : 0.13537906137184114\n",
      "Arcade;Action & Adventure : 0.12409747292418773\n",
      "Action;Action & Adventure : 0.10153429602888085\n",
      "Educational;Pretend Play : 0.09025270758122744\n",
      "Simulation;Action & Adventure : 0.078971119133574\n",
      "Parenting;Education : 0.078971119133574\n",
      "Entertainment;Brain Games : 0.078971119133574\n",
      "Board;Brain Games : 0.078971119133574\n",
      "Parenting;Music & Video : 0.06768953068592057\n",
      "Educational;Brain Games : 0.06768953068592057\n",
      "Casual;Creativity : 0.06768953068592057\n",
      "Art & Design;Creativity : 0.06768953068592057\n",
      "Education;Pretend Play : 0.056407942238267145\n",
      "Role Playing;Pretend Play : 0.04512635379061372\n",
      "Education;Creativity : 0.04512635379061372\n",
      "Role Playing;Action & Adventure : 0.033844765342960284\n",
      "Puzzle;Action & Adventure : 0.033844765342960284\n",
      "Entertainment;Creativity : 0.033844765342960284\n",
      "Entertainment;Action & Adventure : 0.033844765342960284\n",
      "Educational;Creativity : 0.033844765342960284\n",
      "Educational;Action & Adventure : 0.033844765342960284\n",
      "Education;Music & Video : 0.033844765342960284\n",
      "Education;Brain Games : 0.033844765342960284\n",
      "Education;Action & Adventure : 0.033844765342960284\n",
      "Adventure;Action & Adventure : 0.033844765342960284\n",
      "Video Players & Editors;Music & Video : 0.02256317689530686\n",
      "Sports;Action & Adventure : 0.02256317689530686\n",
      "Simulation;Pretend Play : 0.02256317689530686\n",
      "Puzzle;Creativity : 0.02256317689530686\n",
      "Music;Music & Video : 0.02256317689530686\n",
      "Entertainment;Pretend Play : 0.02256317689530686\n",
      "Casual;Education : 0.02256317689530686\n",
      "Board;Action & Adventure : 0.02256317689530686\n",
      "Video Players & Editors;Creativity : 0.01128158844765343\n",
      "Trivia;Education : 0.01128158844765343\n",
      "Travel & Local;Action & Adventure : 0.01128158844765343\n",
      "Tools;Education : 0.01128158844765343\n",
      "Strategy;Education : 0.01128158844765343\n",
      "Strategy;Creativity : 0.01128158844765343\n",
      "Strategy;Action & Adventure : 0.01128158844765343\n",
      "Simulation;Education : 0.01128158844765343\n",
      "Role Playing;Brain Games : 0.01128158844765343\n",
      "Racing;Pretend Play : 0.01128158844765343\n",
      "Puzzle;Education : 0.01128158844765343\n",
      "Parenting;Brain Games : 0.01128158844765343\n",
      "Music & Audio;Music & Video : 0.01128158844765343\n",
      "Lifestyle;Pretend Play : 0.01128158844765343\n",
      "Lifestyle;Education : 0.01128158844765343\n",
      "Health & Fitness;Education : 0.01128158844765343\n",
      "Health & Fitness;Action & Adventure : 0.01128158844765343\n",
      "Entertainment;Education : 0.01128158844765343\n",
      "Communication;Creativity : 0.01128158844765343\n",
      "Comics;Creativity : 0.01128158844765343\n",
      "Casual;Music & Video : 0.01128158844765343\n",
      "Card;Action & Adventure : 0.01128158844765343\n",
      "Books & Reference;Education : 0.01128158844765343\n",
      "Art & Design;Pretend Play : 0.01128158844765343\n",
      "Art & Design;Action & Adventure : 0.01128158844765343\n",
      "Arcade;Pretend Play : 0.01128158844765343\n",
      "Adventure;Education : 0.01128158844765343\n"
     ]
    }
   ],
   "source": [
    "display_table(android_clean_english_free, 9)"
   ]
  },
  {
   "cell_type": "markdown",
   "metadata": {},
   "source": [
    "Due to the large number of available genres in Google Play Store, it is hard to tell the difference between the genres and the categories. There're too many partitions in the genres and as a resuly, the share of each genre is pretty small, such that it is difficult to have a grasp of which kinds of apps will be more attractive and we are unable to get enough information from this, so we should focus on the categories in Google Play Store.\n",
    "\n",
    "To compare between two markets, App Store seem to have a larger percentage of apps designed for fun while Google Play store has comparable percentages of apps designed for fun and practical purposes. \n",
    "\n",
    "So far, we still cannot recommend any app profile based on what we found, the frequency table only reveals the most frequent app genres instead of what genres have the most users."
   ]
  },
  {
   "cell_type": "markdown",
   "metadata": {},
   "source": [
    "# Step 7: Find the genres with the most users\n",
    "## One practical methos is to calculate the average number of installs for each app genre. For the Google Play data set, we can find this information in the Installs column, for the App Store data set, since this information is not collected, we'll use the rating_count_tot app column of total number of user ratings as an approximation to calculate that.<br>Nested loops are used to count the average numbers of users for different genres."
   ]
  },
  {
   "cell_type": "code",
   "execution_count": 20,
   "metadata": {
    "collapsed": false
   },
   "outputs": [
    {
     "name": "stdout",
     "output_type": "stream",
     "text": [
      "The average number of reviews of  Health & Fitness is  23298.015384615384\n",
      "The average number of reviews of  Education is  7003.983050847458\n",
      "The average number of reviews of  Book is  39758.5\n",
      "The average number of reviews of  Weather is  52279.892857142855\n",
      "The average number of reviews of  Social Networking is  71548.34905660378\n",
      "The average number of reviews of  Catalogs is  4004.0\n",
      "The average number of reviews of  Navigation is  86090.33333333333\n",
      "The average number of reviews of  Entertainment is  14029.830708661417\n",
      "The average number of reviews of  Utilities is  18684.456790123455\n",
      "The average number of reviews of  Productivity is  21028.410714285714\n",
      "The average number of reviews of  Lifestyle is  16485.764705882353\n",
      "The average number of reviews of  Finance is  31467.944444444445\n",
      "The average number of reviews of  News is  21248.023255813954\n",
      "The average number of reviews of  Business is  7491.117647058823\n",
      "The average number of reviews of  Photo & Video is  28441.54375\n",
      "The average number of reviews of  Shopping is  26919.690476190477\n",
      "The average number of reviews of  Reference is  74942.11111111111\n",
      "The average number of reviews of  Medical is  612.0\n",
      "The average number of reviews of  Games is  22788.6696905016\n",
      "The average number of reviews of  Food & Drink is  33333.92307692308\n",
      "The average number of reviews of  Travel is  28243.8\n",
      "The average number of reviews of  Sports is  23008.898550724636\n",
      "The average number of reviews of  Music is  57326.530303030304\n"
     ]
    }
   ],
   "source": [
    "# use nested loop based on the frequncy table above to calculate the average numbers of users for different genres\n",
    "genres_ios = freq_table(ios_data_english_free, 11)\n",
    "\n",
    "for genre in genres_ios: # for each unique genre\n",
    "    total = 0\n",
    "    len_genre = 0\n",
    "    for row in ios_data_english_free:\n",
    "        genre_app = row[11] # if the entry has the same genre, count += 1\n",
    "        if genre_app == genre:\n",
    "            total += float(row[5])\n",
    "            len_genre += 1\n",
    "    avg_number_rating = total / len_genre\n",
    "    print('The average number of reviews of ', genre, 'is ', avg_number_rating)"
   ]
  },
  {
   "cell_type": "markdown",
   "metadata": {},
   "source": [
    "We can see that, the navigation, reference, social networking, and music apps are the four genres with most users. However, if we dive deeper into these apps, we can see that these large numbers are actually influences by only few giant apps with a large amount of users like Google Maps, Facebook, Pandora, and Bible, so this does not mean that such genres are suitable for us to develop apps in as these genres are actually less popular than they looks like and it is difficult to compete with these apps. It is hard for other apps in these genres to get higher shares in the markets.\n",
    "On the other hand, for example, for the genre of game, the average number of users may seem less attractive, but the distirbution is relatively even that all the apps have the chance to get profits from the market, and there so many different kinds of games available on the markets from different comparnies with a large total number of users, which means that this can be easier for starters to get in, so here based on the total and average users for each genre as well as the constituents, we would like to recommend the genre of game to develop apps in."
   ]
  },
  {
   "cell_type": "code",
   "execution_count": 21,
   "metadata": {
    "collapsed": false
   },
   "outputs": [
    {
     "name": "stdout",
     "output_type": "stream",
     "text": [
      "Navigation app Waze - GPS Navigation, Maps & Real-time Traffic :  345046\n",
      "Navigation app Google Maps - Navigation & Transit :  154911\n",
      "Navigation app Geocaching® :  12811\n",
      "Navigation app CoPilot GPS – Car Navigation & Offline Maps :  3582\n",
      "Navigation app ImmobilienScout24: Real Estate Search in Germany :  187\n",
      "Navigation app Railway Route Search :  5\n",
      "Reference app Bible :  985920\n",
      "Reference app Dictionary.com Dictionary & Thesaurus :  200047\n",
      "Reference app Dictionary.com Dictionary & Thesaurus for iPad :  54175\n",
      "Reference app Google Translate :  26786\n",
      "Reference app Muslim Pro: Ramadan 2017 Prayer Times, Azan, Quran :  18418\n",
      "Reference app New Furniture Mods - Pocket Wiki & Game Tools for Minecraft PC Edition :  17588\n",
      "Reference app Merriam-Webster Dictionary :  16849\n",
      "Reference app Night Sky :  12122\n",
      "Reference app City Maps for Minecraft PE - The Best Maps for Minecraft Pocket Edition (MCPE) :  8535\n",
      "Reference app LUCKY BLOCK MOD ™ for Minecraft PC Edition - The Best Pocket Wiki & Mods Installer Tools :  4693\n",
      "Reference app GUNS MODS for Minecraft PC Edition - Mods Tools :  1497\n",
      "Reference app Guides for Pokémon GO - Pokemon GO News and Cheats :  826\n",
      "Reference app WWDC :  762\n",
      "Reference app Horror Maps for Minecraft PE - Download The Scariest Maps for Minecraft Pocket Edition (MCPE) Free :  718\n",
      "Reference app VPN Express :  14\n",
      "Reference app Real Bike Traffic Rider Virtual Reality Glasses :  8\n",
      "Reference app 教えて!goo :  0\n",
      "Reference app Jishokun-Japanese English Dictionary & Translator :  0\n"
     ]
    }
   ],
   "source": [
    "# show the details of users for each app under specific genres\n",
    "for row in ios_data_english_free:\n",
    "    if row[11] == 'Navigation':\n",
    "        print('Navigation app', row[1], ': ', row[5])\n",
    "for row in ios_data_english_free:\n",
    "    if row[11] == 'Reference':\n",
    "        print('Reference app', row[1], ': ', row[5])\n",
    "#for row in ios_data_english_free:\n",
    "#    if row[11] == 'Social Networking':\n",
    "#        print('Social Networking app', row[1], ': ', row[5])\n",
    "#for row in ios_data_english_free:\n",
    "#    if row[11] == 'Music':\n",
    "#        print('Music app', row[1], ': ', row[5])\n",
    "#for row in ios_data_english_free:\n",
    "#    if row[11] == 'Games':\n",
    "#        print('Games app', row[1], ': ', row[5])"
   ]
  },
  {
   "cell_type": "code",
   "execution_count": 22,
   "metadata": {
    "collapsed": false
   },
   "outputs": [
    {
     "name": "stdout",
     "output_type": "stream",
     "text": [
      "The average number of installs of  FAMILY is  3695641.8198090694\n",
      "The average number of installs of  TOOLS is  10801391.298666667\n",
      "The average number of installs of  HEALTH_AND_FITNESS is  4188821.9853479853\n",
      "The average number of installs of  SPORTS is  3638640.1428571427\n",
      "The average number of installs of  EDUCATION is  1833495.145631068\n",
      "The average number of installs of  HOUSE_AND_HOME is  1331540.5616438356\n",
      "The average number of installs of  DATING is  854028.8303030303\n",
      "The average number of installs of  PARENTING is  542603.6206896552\n",
      "The average number of installs of  PRODUCTIVITY is  16787331.344927534\n",
      "The average number of installs of  VIDEO_PLAYERS is  24727872.452830188\n",
      "The average number of installs of  PERSONALIZATION is  5201482.6122448975\n",
      "The average number of installs of  BEAUTY is  513151.88679245283\n",
      "The average number of installs of  PHOTOGRAPHY is  17840110.40229885\n",
      "The average number of installs of  LIBRARIES_AND_DEMO is  638503.734939759\n",
      "The average number of installs of  BUSINESS is  1712290.1474201474\n",
      "The average number of installs of  SHOPPING is  7036877.311557789\n",
      "The average number of installs of  COMICS is  817657.2727272727\n",
      "The average number of installs of  FOOD_AND_DRINK is  1924897.7363636363\n",
      "The average number of installs of  ART_AND_DESIGN is  1986335.0877192982\n",
      "The average number of installs of  MAPS_AND_NAVIGATION is  4056941.7741935486\n",
      "The average number of installs of  EVENTS is  253542.22222222222\n",
      "The average number of installs of  MEDICAL is  120550.61980830671\n",
      "The average number of installs of  WEATHER is  5074486.197183099\n",
      "The average number of installs of  NEWS_AND_MAGAZINES is  9549178.467741935\n",
      "The average number of installs of  TRAVEL_AND_LOCAL is  13984077.710144928\n",
      "The average number of installs of  LIFESTYLE is  1437816.2687861272\n",
      "The average number of installs of  SOCIAL is  23253652.127118643\n",
      "The average number of installs of  AUTO_AND_VEHICLES is  647317.8170731707\n",
      "The average number of installs of  BOOKS_AND_REFERENCE is  8767811.894736841\n",
      "The average number of installs of  ENTERTAINMENT is  11640705.88235294\n",
      "The average number of installs of  COMMUNICATION is  38456119.167247385\n",
      "The average number of installs of  GAME is  15588015.603248259\n",
      "The average number of installs of  FINANCE is  1387692.475609756\n"
     ]
    }
   ],
   "source": [
    "category_android = freq_table(android_clean_english_free, 1)\n",
    "\n",
    "for category in category_android: # for each unique genre\n",
    "    total = 0\n",
    "    len_category = 0\n",
    "    for row in android_clean_english_free:\n",
    "        category_app = row[1] # if the entry has the same genre, count += 1\n",
    "        if category_app == category:\n",
    "            number_install = row[5]\n",
    "            number_install = number_install.replace(',', '') # replace the '+' and ',' to convert into floats (i.e. 10,000+)\n",
    "            number_install = number_install.replace('+', '')\n",
    "            total += float(number_install)\n",
    "            len_category += 1\n",
    "    avg_number_install = total / len_category\n",
    "    print('The average number of installs of ', category, 'is ', avg_number_install)"
   ]
  },
  {
   "cell_type": "markdown",
   "metadata": {
    "collapsed": true
   },
   "source": [
    "Still, we can see that here for the Google Play store, the three categories with the most installs are communication, video players, and social, but still the same problem that a few apps of these categories significantly enhance the average installs, which make them look more attractive than they really arr.\n",
    "For example, if we look at these three categories, we can see that only less than 20 apps in each categories of VIDEO_PLAYERS and SOCIAL have the number of installs greater than one hundred million, which means that the large numbers are mostly contributed by limited extremely popular apps and the potential in these categories is not so good. For the commucation category, it is also not good to see so many apps with installs over 1,000,000,000 that not much space are available in this area."
   ]
  },
  {
   "cell_type": "code",
   "execution_count": 28,
   "metadata": {
    "collapsed": false
   },
   "outputs": [
    {
     "name": "stdout",
     "output_type": "stream",
     "text": [
      "YouTube : 1,000,000,000+\n",
      "Motorola Gallery : 100,000,000+\n",
      "VLC for Android : 100,000,000+\n",
      "Google Play Movies & TV : 1,000,000,000+\n",
      "MX Player : 500,000,000+\n",
      "Dubsmash : 100,000,000+\n",
      "VivaVideo - Video Editor & Photo Movie : 100,000,000+\n",
      "VideoShow-Video Editor, Video Maker, Beauty Camera : 100,000,000+\n",
      "Motorola FM Radio : 100,000,000+\n",
      "\n",
      "\n",
      "Facebook : 1,000,000,000+\n",
      "Facebook Lite : 500,000,000+\n",
      "Tumblr : 100,000,000+\n",
      "Pinterest : 100,000,000+\n",
      "Google+ : 1,000,000,000+\n",
      "Badoo - Free Chat & Dating App : 100,000,000+\n",
      "Tango - Live Video Broadcast : 100,000,000+\n",
      "Instagram : 1,000,000,000+\n",
      "Snapchat : 500,000,000+\n",
      "LinkedIn : 100,000,000+\n",
      "Tik Tok - including musical.ly : 100,000,000+\n",
      "BIGO LIVE - Live Stream : 100,000,000+\n",
      "VK : 100,000,000+\n",
      "\n",
      "\n",
      "WhatsApp Messenger : 1,000,000,000+\n",
      "imo beta free calls and text : 100,000,000+\n",
      "Android Messages : 100,000,000+\n",
      "Google Duo - High Quality Video Calls : 500,000,000+\n",
      "Messenger – Text and Video Chat for Free : 1,000,000,000+\n",
      "imo free video calls and chat : 500,000,000+\n",
      "Skype - free IM & video calls : 1,000,000,000+\n",
      "Who : 100,000,000+\n",
      "GO SMS Pro - Messenger, Free Themes, Emoji : 100,000,000+\n",
      "LINE: Free Calls & Messages : 500,000,000+\n",
      "Google Chrome: Fast & Secure : 1,000,000,000+\n",
      "Firefox Browser fast & private : 100,000,000+\n",
      "UC Browser - Fast Download Private & Secure : 500,000,000+\n",
      "Gmail : 1,000,000,000+\n",
      "Hangouts : 1,000,000,000+\n",
      "Messenger Lite: Free Calls & Messages : 100,000,000+\n",
      "Kik : 100,000,000+\n",
      "KakaoTalk: Free Calls & Text : 100,000,000+\n",
      "Opera Mini - fast web browser : 100,000,000+\n",
      "Opera Browser: Fast and Secure : 100,000,000+\n",
      "Telegram : 100,000,000+\n",
      "Truecaller: Caller ID, SMS spam blocking & Dialer : 100,000,000+\n",
      "UC Browser Mini -Tiny Fast Private & Secure : 100,000,000+\n",
      "Viber Messenger : 500,000,000+\n",
      "WeChat : 100,000,000+\n",
      "Yahoo Mail – Stay Organized : 100,000,000+\n",
      "BBM - Free Calls & Messages : 100,000,000+\n"
     ]
    }
   ],
   "source": [
    "for app in android_clean_english_free:\n",
    "    if app[1] == 'VIDEO_PLAYERS' and (app[5] == '1,000,000,000+'\n",
    "                                      or app[5] == '500,000,000+'\n",
    "                                      or app[5] == '100,000,000+'):\n",
    "        print(app[0], ':', app[5])\n",
    "print('\\n')\n",
    "for app in android_clean_english_free:\n",
    "    if app[1] == 'SOCIAL' and (app[5] == '1,000,000,000+'\n",
    "                                      or app[5] == '500,000,000+'\n",
    "                                      or app[5] == '100,000,000+'):\n",
    "        print(app[0], ':', app[5])\n",
    "print('\\n')\n",
    "for app in android_clean_english_free:\n",
    "    if app[1] == 'COMMUNICATION' and (app[5] == '1,000,000,000+'\n",
    "                                      or app[5] == '500,000,000+'\n",
    "                                      or app[5] == '100,000,000+'):\n",
    "        print(app[0], ':', app[5])"
   ]
  },
  {
   "cell_type": "markdown",
   "metadata": {},
   "source": [
    "Then, the next five runner-ups include the categories of 'PRODUCTIVITY', 'PHOTOGRAPHY', 'TRAVEL_AND_LOCAL', 'GAME', and 'FINANCE'. We take similar tests on these categories.\n",
    "Similarly, we see that for PRODUCTIVITY, PHOTOGRAPHY, and TRAVEL_AND_LOCAL categories, several apps with very large numbers of installs contribute mostly to the high installs in these categories. \n",
    "For games, it is good to see that there exist the largest number of apps whose installs are fall in the interval of 100,000,000+, which means that the market for games are very good and there still potential to develop successful apps in this area considering the numerous attractive apps with none of them showing a significantly higher share (no apps with 1,000,000,000+). So game can still be a good choice."
   ]
  },
  {
   "cell_type": "code",
   "execution_count": 31,
   "metadata": {
    "collapsed": false
   },
   "outputs": [
    {
     "name": "stdout",
     "output_type": "stream",
     "text": [
      "Microsoft Word : 500,000,000+\n",
      "Microsoft Outlook : 100,000,000+\n",
      "Microsoft OneDrive : 100,000,000+\n",
      "Microsoft OneNote : 100,000,000+\n",
      "Google Keep : 100,000,000+\n",
      "ES File Explorer File Manager : 100,000,000+\n",
      "Dropbox : 500,000,000+\n",
      "Google Docs : 100,000,000+\n",
      "Microsoft PowerPoint : 100,000,000+\n",
      "Samsung Notes : 100,000,000+\n",
      "SwiftKey Keyboard : 100,000,000+\n",
      "Google Drive : 1,000,000,000+\n",
      "Adobe Acrobat Reader : 100,000,000+\n",
      "Google Sheets : 100,000,000+\n",
      "Microsoft Excel : 100,000,000+\n",
      "WPS Office - Word, Docs, PDF, Note, Slide & Sheet : 100,000,000+\n",
      "Google Slides : 100,000,000+\n",
      "ColorNote Notepad Notes : 100,000,000+\n",
      "Evernote – Organizer, Planner for Notes & Memos : 100,000,000+\n",
      "Google Calendar : 500,000,000+\n",
      "Cloud Print : 500,000,000+\n",
      "CamScanner - Phone PDF Creator : 100,000,000+\n",
      "\n",
      "\n",
      "B612 - Beauty & Filter Camera : 100,000,000+\n",
      "YouCam Makeup - Magic Selfie Makeovers : 100,000,000+\n",
      "Sweet Selfie - selfie camera, beauty cam, photo edit : 100,000,000+\n",
      "Google Photos : 1,000,000,000+\n",
      "Retrica : 100,000,000+\n",
      "Photo Editor Pro : 100,000,000+\n",
      "BeautyPlus - Easy Photo Editor & Selfie Camera : 100,000,000+\n",
      "PicsArt Photo Studio: Collage Maker & Pic Editor : 100,000,000+\n",
      "Photo Collage Editor : 100,000,000+\n",
      "Z Camera - Photo Editor, Beauty Selfie, Collage : 100,000,000+\n",
      "PhotoGrid: Video & Pic Collage Maker, Photo Editor : 100,000,000+\n",
      "Candy Camera - selfie, beauty camera, photo editor : 100,000,000+\n",
      "YouCam Perfect - Selfie Photo Editor : 100,000,000+\n",
      "Camera360: Selfie Photo Editor with Funny Sticker : 100,000,000+\n",
      "S Photo Editor - Collage Maker , Photo Collage : 100,000,000+\n",
      "AR effect : 100,000,000+\n",
      "Cymera Camera- Photo Editor, Filter,Collage,Layout : 100,000,000+\n",
      "LINE Camera - Photo editor : 100,000,000+\n",
      "Photo Editor Collage Maker Pro : 100,000,000+\n",
      "\n",
      "\n",
      "Booking.com Travel Deals : 100,000,000+\n",
      "TripAdvisor Hotels Flights Restaurants Attractions : 100,000,000+\n",
      "Maps - Navigate & Explore : 1,000,000,000+\n",
      "Google Street View : 1,000,000,000+\n",
      "Google Earth : 100,000,000+\n",
      "\n",
      "\n",
      "Sonic Dash : 100,000,000+\n",
      "PAC-MAN : 100,000,000+\n",
      "Roll the Ball® - slide puzzle : 100,000,000+\n",
      "Piano Tiles 2™ : 100,000,000+\n",
      "Pokémon GO : 100,000,000+\n",
      "Extreme Car Driving Simulator : 100,000,000+\n",
      "Trivia Crack : 100,000,000+\n",
      "Angry Birds 2 : 100,000,000+\n",
      "Candy Crush Saga : 500,000,000+\n",
      "8 Ball Pool : 100,000,000+\n",
      "Subway Surfers : 1,000,000,000+\n",
      "Candy Crush Soda Saga : 100,000,000+\n",
      "Clash Royale : 100,000,000+\n",
      "Clash of Clans : 100,000,000+\n",
      "Plants vs. Zombies FREE : 100,000,000+\n",
      "Pou : 500,000,000+\n",
      "Flow Free : 100,000,000+\n",
      "My Talking Angela : 100,000,000+\n",
      "slither.io : 100,000,000+\n",
      "Cooking Fever : 100,000,000+\n",
      "Yes day : 100,000,000+\n",
      "Score! Hero : 100,000,000+\n",
      "Dream League Soccer 2018 : 100,000,000+\n",
      "My Talking Tom : 500,000,000+\n",
      "Sniper 3D Gun Shooter: Free Shooting Games - FPS : 100,000,000+\n",
      "Zombie Tsunami : 100,000,000+\n",
      "Helix Jump : 100,000,000+\n",
      "Crossy Road : 100,000,000+\n",
      "Temple Run 2 : 500,000,000+\n",
      "Talking Tom Gold Run : 100,000,000+\n",
      "Agar.io : 100,000,000+\n",
      "Bus Rush: Subway Edition : 100,000,000+\n",
      "Traffic Racer : 100,000,000+\n",
      "Hill Climb Racing : 100,000,000+\n",
      "Angry Birds Rio : 100,000,000+\n",
      "Cut the Rope FULL FREE : 100,000,000+\n",
      "Hungry Shark Evolution : 100,000,000+\n",
      "Angry Birds Classic : 100,000,000+\n",
      "Hill Climb Racing 2 : 100,000,000+\n",
      "Jetpack Joyride : 100,000,000+\n",
      "Super Mario Run : 100,000,000+\n",
      "Glow Hockey : 100,000,000+\n",
      "Asphalt 8: Airborne : 100,000,000+\n",
      "Lep's World 2 🍀🍀 : 100,000,000+\n",
      "Fruit Ninja® : 100,000,000+\n",
      "Vector : 100,000,000+\n",
      "Dr. Driving : 100,000,000+\n",
      "Bike Race Free - Top Motorcycle Racing Games : 100,000,000+\n",
      "Smash Hit : 100,000,000+\n",
      "Temple Run : 100,000,000+\n",
      "Geometry Dash Lite : 100,000,000+\n",
      "Ant Smasher by Best Cool & Fun Games : 100,000,000+\n",
      "Angry Birds Star Wars : 100,000,000+\n",
      "Mobile Legends: Bang Bang : 100,000,000+\n",
      "Banana Kong : 100,000,000+\n",
      "Skater Boy : 100,000,000+\n",
      "Shadow Fight 2 : 100,000,000+\n",
      "Modern Combat 5: eSports FPS : 100,000,000+\n",
      "Garena Free Fire : 100,000,000+\n"
     ]
    }
   ],
   "source": [
    "for app in android_clean_english_free:\n",
    "    if app[1] == 'PRODUCTIVITY' and (app[5] == '1,000,000,000+'\n",
    "                                      or app[5] == '500,000,000+'\n",
    "                                      or app[5] == '100,000,000+'):\n",
    "        print(app[0], ':', app[5])\n",
    "print('\\n')       \n",
    "for app in android_clean_english_free:\n",
    "    if app[1] == 'PHOTOGRAPHY' and (app[5] == '1,000,000,000+'\n",
    "                                      or app[5] == '500,000,000+'\n",
    "                                      or app[5] == '100,000,000+'):\n",
    "        print(app[0], ':', app[5])\n",
    "print('\\n')\n",
    "for app in android_clean_english_free:\n",
    "    if app[1] == 'TRAVEL_AND_LOCAL' and (app[5] == '1,000,000,000+'\n",
    "                                      or app[5] == '500,000,000+'\n",
    "                                      or app[5] == '100,000,000+'):\n",
    "        print(app[0], ':', app[5])\n",
    "print('\\n')\n",
    "for app in android_clean_english_free:\n",
    "    if app[1] == 'GAME' and (app[5] == '1,000,000,000+'\n",
    "                                      or app[5] == '500,000,000+'\n",
    "                                      or app[5] == '100,000,000+'):\n",
    "        print(app[0], ':', app[5])"
   ]
  },
  {
   "cell_type": "markdown",
   "metadata": {},
   "source": [
    "To conclude, we tried to analyze the data about both Apple Store and Google Play Store in this project, in order to recommend the category/genre of a new app that can make revenue in both markets. We started with opening data, and then filtered these data with the criterion we needed, and finally looked into the average/total installs/reviews in different category/genre. \n",
    "We concluded that taking a popular book (perhaps a more recent book) and turning it into an app could be profitable for both the Google Play and the App Store markets. The markets are already full of libraries, so we need to add some special features besides the raw version of the book. This might include daily quotes from the book, an audio version of the book, quizzes on the book, a forum where people can discuss the book, etc."
   ]
  }
 ],
 "metadata": {
  "kernelspec": {
   "display_name": "Python 3",
   "language": "python",
   "name": "python3"
  },
  "language_info": {
   "codemirror_mode": {
    "name": "ipython",
    "version": 3
   },
   "file_extension": ".py",
   "mimetype": "text/x-python",
   "name": "python",
   "nbconvert_exporter": "python",
   "pygments_lexer": "ipython3",
   "version": "3.4.3"
  }
 },
 "nbformat": 4,
 "nbformat_minor": 2
}
