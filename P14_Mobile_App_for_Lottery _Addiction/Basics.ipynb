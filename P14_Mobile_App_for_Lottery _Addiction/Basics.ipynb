{
 "cells": [
  {
   "cell_type": "markdown",
   "metadata": {},
   "source": [
    "# Mobile App for Lottery Addiction\n",
    "In the project, we'll calculate various probabilities related with 6/49 lottery as well as write functions that enable user to easily calculate lottery probabilities for a mobile app by a medical institute, which is aimed to prevent and treat gambling addictions wants to build a dedicated mobile app to help lottery addicts better estimate their chances of winning."
   ]
  },
  {
   "cell_type": "code",
   "execution_count": 1,
   "metadata": {
    "collapsed": true
   },
   "outputs": [],
   "source": [
    "# Write the functions to calculate factorial and combinations\n",
    "def factorial(n):\n",
    "    n_factorial = 1\n",
    "    for i in range(n, 0, -1):\n",
    "        n_factorial *= i\n",
    "    return n_factorial\n",
    "\n",
    "def combinations(n, k):\n",
    "    return factorial(n) / (factorial(k) * factorial(n - k))"
   ]
  },
  {
   "cell_type": "code",
   "execution_count": 8,
   "metadata": {
    "collapsed": true
   },
   "outputs": [],
   "source": [
    "# Write the function to calculate the chance to win a big prize\n",
    "def one_ticket_probability(in_list):\n",
    "    tot_outcomes = combinations(49, len(in_list))\n",
    "    win_prob = 1 / tot_outcomes * 100\n",
    "    print(\"The chance of winning the big prize with the numbers {} is {:.9f}%.\".format(in_list, win_prob))"
   ]
  },
  {
   "cell_type": "code",
   "execution_count": 9,
   "metadata": {
    "collapsed": false,
    "scrolled": true
   },
   "outputs": [
    {
     "name": "stdout",
     "output_type": "stream",
     "text": [
      "The chance of winning the big prize with the numbers [1, 3, 7, 13, 23, 35] is 0.000000072%.\n"
     ]
    }
   ],
   "source": [
    "# Test\n",
    "one_ticket_probability([1, 3, 7, 13, 23, 35])"
   ]
  },
  {
   "cell_type": "code",
   "execution_count": 12,
   "metadata": {
    "collapsed": false
   },
   "outputs": [
    {
     "name": "stdout",
     "output_type": "stream",
     "text": [
      "(3665, 11)\n"
     ]
    },
    {
     "data": {
      "text/html": [
       "<div>\n",
       "<style scoped>\n",
       "    .dataframe tbody tr th:only-of-type {\n",
       "        vertical-align: middle;\n",
       "    }\n",
       "\n",
       "    .dataframe tbody tr th {\n",
       "        vertical-align: top;\n",
       "    }\n",
       "\n",
       "    .dataframe thead th {\n",
       "        text-align: right;\n",
       "    }\n",
       "</style>\n",
       "<table border=\"1\" class=\"dataframe\">\n",
       "  <thead>\n",
       "    <tr style=\"text-align: right;\">\n",
       "      <th></th>\n",
       "      <th>PRODUCT</th>\n",
       "      <th>DRAW NUMBER</th>\n",
       "      <th>SEQUENCE NUMBER</th>\n",
       "      <th>DRAW DATE</th>\n",
       "      <th>NUMBER DRAWN 1</th>\n",
       "      <th>NUMBER DRAWN 2</th>\n",
       "      <th>NUMBER DRAWN 3</th>\n",
       "      <th>NUMBER DRAWN 4</th>\n",
       "      <th>NUMBER DRAWN 5</th>\n",
       "      <th>NUMBER DRAWN 6</th>\n",
       "      <th>BONUS NUMBER</th>\n",
       "    </tr>\n",
       "  </thead>\n",
       "  <tbody>\n",
       "    <tr>\n",
       "      <th>0</th>\n",
       "      <td>649</td>\n",
       "      <td>1</td>\n",
       "      <td>0</td>\n",
       "      <td>6/12/1982</td>\n",
       "      <td>3</td>\n",
       "      <td>11</td>\n",
       "      <td>12</td>\n",
       "      <td>14</td>\n",
       "      <td>41</td>\n",
       "      <td>43</td>\n",
       "      <td>13</td>\n",
       "    </tr>\n",
       "    <tr>\n",
       "      <th>1</th>\n",
       "      <td>649</td>\n",
       "      <td>2</td>\n",
       "      <td>0</td>\n",
       "      <td>6/19/1982</td>\n",
       "      <td>8</td>\n",
       "      <td>33</td>\n",
       "      <td>36</td>\n",
       "      <td>37</td>\n",
       "      <td>39</td>\n",
       "      <td>41</td>\n",
       "      <td>9</td>\n",
       "    </tr>\n",
       "    <tr>\n",
       "      <th>2</th>\n",
       "      <td>649</td>\n",
       "      <td>3</td>\n",
       "      <td>0</td>\n",
       "      <td>6/26/1982</td>\n",
       "      <td>1</td>\n",
       "      <td>6</td>\n",
       "      <td>23</td>\n",
       "      <td>24</td>\n",
       "      <td>27</td>\n",
       "      <td>39</td>\n",
       "      <td>34</td>\n",
       "    </tr>\n",
       "    <tr>\n",
       "      <th>3</th>\n",
       "      <td>649</td>\n",
       "      <td>4</td>\n",
       "      <td>0</td>\n",
       "      <td>7/3/1982</td>\n",
       "      <td>3</td>\n",
       "      <td>9</td>\n",
       "      <td>10</td>\n",
       "      <td>13</td>\n",
       "      <td>20</td>\n",
       "      <td>43</td>\n",
       "      <td>34</td>\n",
       "    </tr>\n",
       "    <tr>\n",
       "      <th>4</th>\n",
       "      <td>649</td>\n",
       "      <td>5</td>\n",
       "      <td>0</td>\n",
       "      <td>7/10/1982</td>\n",
       "      <td>5</td>\n",
       "      <td>14</td>\n",
       "      <td>21</td>\n",
       "      <td>31</td>\n",
       "      <td>34</td>\n",
       "      <td>47</td>\n",
       "      <td>45</td>\n",
       "    </tr>\n",
       "  </tbody>\n",
       "</table>\n",
       "</div>"
      ],
      "text/plain": [
       "   PRODUCT  DRAW NUMBER  SEQUENCE NUMBER  DRAW DATE  NUMBER DRAWN 1  \\\n",
       "0      649            1                0  6/12/1982               3   \n",
       "1      649            2                0  6/19/1982               8   \n",
       "2      649            3                0  6/26/1982               1   \n",
       "3      649            4                0   7/3/1982               3   \n",
       "4      649            5                0  7/10/1982               5   \n",
       "\n",
       "   NUMBER DRAWN 2  NUMBER DRAWN 3  NUMBER DRAWN 4  NUMBER DRAWN 5  \\\n",
       "0              11              12              14              41   \n",
       "1              33              36              37              39   \n",
       "2               6              23              24              27   \n",
       "3               9              10              13              20   \n",
       "4              14              21              31              34   \n",
       "\n",
       "   NUMBER DRAWN 6  BONUS NUMBER  \n",
       "0              43            13  \n",
       "1              41             9  \n",
       "2              39            34  \n",
       "3              43            34  \n",
       "4              47            45  "
      ]
     },
     "execution_count": 12,
     "metadata": {},
     "output_type": "execute_result"
    }
   ],
   "source": [
    "import pandas as pd\n",
    "data_649 = pd.read_csv(\"649.csv\")\n",
    "\n",
    "pd.options.display.max_columns = 100\n",
    "\n",
    "print(data_649.shape)\n",
    "\n",
    "data_649.head()"
   ]
  },
  {
   "cell_type": "code",
   "execution_count": 13,
   "metadata": {
    "collapsed": false
   },
   "outputs": [
    {
     "data": {
      "text/html": [
       "<div>\n",
       "<style scoped>\n",
       "    .dataframe tbody tr th:only-of-type {\n",
       "        vertical-align: middle;\n",
       "    }\n",
       "\n",
       "    .dataframe tbody tr th {\n",
       "        vertical-align: top;\n",
       "    }\n",
       "\n",
       "    .dataframe thead th {\n",
       "        text-align: right;\n",
       "    }\n",
       "</style>\n",
       "<table border=\"1\" class=\"dataframe\">\n",
       "  <thead>\n",
       "    <tr style=\"text-align: right;\">\n",
       "      <th></th>\n",
       "      <th>PRODUCT</th>\n",
       "      <th>DRAW NUMBER</th>\n",
       "      <th>SEQUENCE NUMBER</th>\n",
       "      <th>DRAW DATE</th>\n",
       "      <th>NUMBER DRAWN 1</th>\n",
       "      <th>NUMBER DRAWN 2</th>\n",
       "      <th>NUMBER DRAWN 3</th>\n",
       "      <th>NUMBER DRAWN 4</th>\n",
       "      <th>NUMBER DRAWN 5</th>\n",
       "      <th>NUMBER DRAWN 6</th>\n",
       "      <th>BONUS NUMBER</th>\n",
       "    </tr>\n",
       "  </thead>\n",
       "  <tbody>\n",
       "    <tr>\n",
       "      <th>3660</th>\n",
       "      <td>649</td>\n",
       "      <td>3587</td>\n",
       "      <td>0</td>\n",
       "      <td>6/6/2018</td>\n",
       "      <td>10</td>\n",
       "      <td>15</td>\n",
       "      <td>23</td>\n",
       "      <td>38</td>\n",
       "      <td>40</td>\n",
       "      <td>41</td>\n",
       "      <td>35</td>\n",
       "    </tr>\n",
       "    <tr>\n",
       "      <th>3661</th>\n",
       "      <td>649</td>\n",
       "      <td>3588</td>\n",
       "      <td>0</td>\n",
       "      <td>6/9/2018</td>\n",
       "      <td>19</td>\n",
       "      <td>25</td>\n",
       "      <td>31</td>\n",
       "      <td>36</td>\n",
       "      <td>46</td>\n",
       "      <td>47</td>\n",
       "      <td>26</td>\n",
       "    </tr>\n",
       "    <tr>\n",
       "      <th>3662</th>\n",
       "      <td>649</td>\n",
       "      <td>3589</td>\n",
       "      <td>0</td>\n",
       "      <td>6/13/2018</td>\n",
       "      <td>6</td>\n",
       "      <td>22</td>\n",
       "      <td>24</td>\n",
       "      <td>31</td>\n",
       "      <td>32</td>\n",
       "      <td>34</td>\n",
       "      <td>16</td>\n",
       "    </tr>\n",
       "    <tr>\n",
       "      <th>3663</th>\n",
       "      <td>649</td>\n",
       "      <td>3590</td>\n",
       "      <td>0</td>\n",
       "      <td>6/16/2018</td>\n",
       "      <td>2</td>\n",
       "      <td>15</td>\n",
       "      <td>21</td>\n",
       "      <td>31</td>\n",
       "      <td>38</td>\n",
       "      <td>49</td>\n",
       "      <td>8</td>\n",
       "    </tr>\n",
       "    <tr>\n",
       "      <th>3664</th>\n",
       "      <td>649</td>\n",
       "      <td>3591</td>\n",
       "      <td>0</td>\n",
       "      <td>6/20/2018</td>\n",
       "      <td>14</td>\n",
       "      <td>24</td>\n",
       "      <td>31</td>\n",
       "      <td>35</td>\n",
       "      <td>37</td>\n",
       "      <td>48</td>\n",
       "      <td>17</td>\n",
       "    </tr>\n",
       "  </tbody>\n",
       "</table>\n",
       "</div>"
      ],
      "text/plain": [
       "      PRODUCT  DRAW NUMBER  SEQUENCE NUMBER  DRAW DATE  NUMBER DRAWN 1  \\\n",
       "3660      649         3587                0   6/6/2018              10   \n",
       "3661      649         3588                0   6/9/2018              19   \n",
       "3662      649         3589                0  6/13/2018               6   \n",
       "3663      649         3590                0  6/16/2018               2   \n",
       "3664      649         3591                0  6/20/2018              14   \n",
       "\n",
       "      NUMBER DRAWN 2  NUMBER DRAWN 3  NUMBER DRAWN 4  NUMBER DRAWN 5  \\\n",
       "3660              15              23              38              40   \n",
       "3661              25              31              36              46   \n",
       "3662              22              24              31              32   \n",
       "3663              15              21              31              38   \n",
       "3664              24              31              35              37   \n",
       "\n",
       "      NUMBER DRAWN 6  BONUS NUMBER  \n",
       "3660              41            35  \n",
       "3661              47            26  \n",
       "3662              34            16  \n",
       "3663              49             8  \n",
       "3664              48            17  "
      ]
     },
     "execution_count": 13,
     "metadata": {},
     "output_type": "execute_result"
    }
   ],
   "source": [
    "data_649.tail()"
   ]
  },
  {
   "cell_type": "code",
   "execution_count": 21,
   "metadata": {
    "collapsed": true
   },
   "outputs": [],
   "source": [
    "# Write a function to extract the winning six numbers as a set\n",
    "def extract_numbers(row_data):\n",
    "    win_set = row_data[4:10]\n",
    "    win_set = set(win_set.values)\n",
    "    return win_set"
   ]
  },
  {
   "cell_type": "code",
   "execution_count": 22,
   "metadata": {
    "collapsed": false
   },
   "outputs": [
    {
     "name": "stdout",
     "output_type": "stream",
     "text": [
      "0    {3, 41, 11, 12, 43, 14}\n",
      "1    {33, 36, 37, 39, 8, 41}\n",
      "2     {1, 6, 39, 23, 24, 27}\n",
      "3     {3, 9, 10, 43, 13, 20}\n",
      "4    {34, 5, 14, 47, 21, 31}\n",
      "dtype: object\n"
     ]
    }
   ],
   "source": [
    "win_sets = data_649.apply(extract_numbers, axis = 1)\n",
    "print(win_sets.head())"
   ]
  },
  {
   "cell_type": "code",
   "execution_count": 30,
   "metadata": {
    "collapsed": false
   },
   "outputs": [],
   "source": [
    "# Write the function to extract the time(s) that a specific set of numbers has been drawned before\n",
    "def check_historical_occurence(user_numerbs, winning_sets):\n",
    "    user_numbers = set(user_numerbs)\n",
    "    check_occurrence = user_numbers == winning_sets\n",
    "    n_occurrences = check_occurrence.sum()\n",
    "    \n",
    "    if n_occurrences == 0:\n",
    "        print(\"\"\"The set of numbers {} has not been drawned before. \n",
    "The chance to win using these numbers remains 0.000000072% evry time.\"\"\".format(user_numbers))\n",
    "    else:\n",
    "        print(\"\"\"The number of times that the set of numbers {} has been before is {}. \n",
    "The chance to win using these numbers remains 0.000000072% evry time.\"\"\".format(user_numbers, n_occurrences))"
   ]
  },
  {
   "cell_type": "code",
   "execution_count": 31,
   "metadata": {
    "collapsed": false,
    "scrolled": true
   },
   "outputs": [
    {
     "name": "stdout",
     "output_type": "stream",
     "text": [
      "The set of numbers {1, 3, 35, 5, 13, 23} has not been drawned before. \n",
      "The chance to win using these numbers remains 0.000000072% evry time.\n"
     ]
    }
   ],
   "source": [
    "# Test\n",
    "check_historical_occurence([1, 3, 5, 13, 23, 35], win_sets)"
   ]
  },
  {
   "cell_type": "code",
   "execution_count": 33,
   "metadata": {
    "collapsed": true
   },
   "outputs": [],
   "source": [
    "# Write a function to calculate the chance to win a big prize with multiple tickets\n",
    "def multi_ticket_probability(n_tickets):\n",
    "    tot_outcomes = combinations(49, 6)\n",
    "    win_prob = n_tickets / tot_outcomes * 100\n",
    "    print(\"The chance of winning the big prize with {} ticket(s) is {:.9f}%.\".format(n_tickets, win_prob))"
   ]
  },
  {
   "cell_type": "code",
   "execution_count": 34,
   "metadata": {
    "collapsed": false,
    "scrolled": true
   },
   "outputs": [
    {
     "name": "stdout",
     "output_type": "stream",
     "text": [
      "The chance of winning the big prize with 1 ticket(s) is 0.000000072%.\n",
      "The chance of winning the big prize with 10 ticket(s) is 0.000000715%.\n",
      "The chance of winning the big prize with 100 ticket(s) is 0.000007151%.\n",
      "The chance of winning the big prize with 10000 ticket(s) is 0.000715112%.\n",
      "The chance of winning the big prize with 1000000 ticket(s) is 0.071511238%.\n",
      "The chance of winning the big prize with 6991908 ticket(s) is 0.500000000%.\n",
      "The chance of winning the big prize with 13983816 ticket(s) is 1.000000000%.\n"
     ]
    }
   ],
   "source": [
    "# Test\n",
    "test_numbers = [1, 10, 100, 10000, 1000000, 6991908, 13983816]\n",
    "\n",
    "chance = {}\n",
    "\n",
    "for n in test_numbers:\n",
    "    chance[n] = multi_ticket_probability(n)"
   ]
  },
  {
   "cell_type": "code",
   "execution_count": 39,
   "metadata": {
    "collapsed": true
   },
   "outputs": [],
   "source": [
    "# Write a function to calculate the chance of winning numbers you have in the numbers selected\n",
    "def probability_less_6(n):\n",
    "    \"\"\"\n",
    "    n is a integer between 2-5\n",
    "    \"\"\"\n",
    "    tot_win_outcomes = combinations(6, n) * combinations(43, 6 - n)\n",
    "    tot_outcomes = combinations(49, 6)\n",
    "    win_prob = tot_win_outcomes / tot_outcomes * 100\n",
    "    print(\"\"\"The chance of having {} winning numbers in the numbers you selected is {:.9f}%\"\"\".format(n, win_prob))"
   ]
  },
  {
   "cell_type": "code",
   "execution_count": 40,
   "metadata": {
    "collapsed": false
   },
   "outputs": [
    {
     "name": "stdout",
     "output_type": "stream",
     "text": [
      "The chance of having 2 winning numbers in the numbers you selected is 13.237802900%\n",
      "The chance of having 3 winning numbers in the numbers you selected is 1.765040387%\n",
      "The chance of having 4 winning numbers in the numbers you selected is 0.096861972%\n",
      "The chance of having 5 winning numbers in the numbers you selected is 0.001844990%\n"
     ]
    }
   ],
   "source": [
    "# Test\n",
    "test_numbers_2 = [2, 3, 4, 5]\n",
    "\n",
    "for n in test_numbers_2:\n",
    "    probability_less_6(n)"
   ]
  }
 ],
 "metadata": {
  "kernelspec": {
   "display_name": "Python 3",
   "language": "python",
   "name": "python3"
  },
  "language_info": {
   "codemirror_mode": {
    "name": "ipython",
    "version": 3
   },
   "file_extension": ".py",
   "mimetype": "text/x-python",
   "name": "python",
   "nbconvert_exporter": "python",
   "pygments_lexer": "ipython3",
   "version": "3.4.3"
  }
 },
 "nbformat": 4,
 "nbformat_minor": 2
}
