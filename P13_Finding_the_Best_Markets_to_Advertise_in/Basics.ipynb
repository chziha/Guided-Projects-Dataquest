{
 "cells": [
  {
   "cell_type": "markdown",
   "metadata": {},
   "source": [
    "# Find two best markets to advertise in\n",
    "We're working for an e-learning company that offers courses on programming. Most of our courses are on web and mobile development, but we also cover many other domains, like data science, game development, etc. In this project, we'll find out the two best markets to advertise our product in "
   ]
  },
  {
   "cell_type": "code",
   "execution_count": 1,
   "metadata": {
    "collapsed": false
   },
   "outputs": [
    {
     "name": "stdout",
     "output_type": "stream",
     "text": [
      "(18175, 136) \n",
      "\n",
      "    Age  AttendedBootcamp  BootcampFinish  BootcampLoanYesNo BootcampName  \\\n",
      "0  27.0               0.0             NaN                NaN          NaN   \n",
      "1  34.0               0.0             NaN                NaN          NaN   \n",
      "2  21.0               0.0             NaN                NaN          NaN   \n",
      "3  26.0               0.0             NaN                NaN          NaN   \n",
      "4  20.0               0.0             NaN                NaN          NaN   \n",
      "\n",
      "   BootcampRecommend  ChildrenNumber                 CityPopulation  \\\n",
      "0                NaN             NaN            more than 1 million   \n",
      "1                NaN             NaN              less than 100,000   \n",
      "2                NaN             NaN            more than 1 million   \n",
      "3                NaN             NaN  between 100,000 and 1 million   \n",
      "4                NaN             NaN  between 100,000 and 1 million   \n",
      "\n",
      "   CodeEventConferences  CodeEventDjangoGirls         ...           \\\n",
      "0                   NaN                   NaN         ...            \n",
      "1                   NaN                   NaN         ...            \n",
      "2                   NaN                   NaN         ...            \n",
      "3                   NaN                   NaN         ...            \n",
      "4                   NaN                   NaN         ...            \n",
      "\n",
      "   YouTubeFCC  YouTubeFunFunFunction  YouTubeGoogleDev  YouTubeLearnCode  \\\n",
      "0         NaN                    NaN               NaN               NaN   \n",
      "1         1.0                    NaN               NaN               NaN   \n",
      "2         NaN                    NaN               NaN               1.0   \n",
      "3         1.0                    1.0               NaN               NaN   \n",
      "4         NaN                    NaN               NaN               NaN   \n",
      "\n",
      "   YouTubeLevelUpTuts  YouTubeMIT  YouTubeMozillaHacks YouTubeOther  \\\n",
      "0                 NaN         NaN                  NaN          NaN   \n",
      "1                 NaN         NaN                  NaN          NaN   \n",
      "2                 1.0         NaN                  NaN          NaN   \n",
      "3                 1.0         NaN                  NaN          NaN   \n",
      "4                 NaN         NaN                  NaN          NaN   \n",
      "\n",
      "   YouTubeSimplilearn  YouTubeTheNewBoston  \n",
      "0                 NaN                  NaN  \n",
      "1                 NaN                  NaN  \n",
      "2                 NaN                  NaN  \n",
      "3                 NaN                  NaN  \n",
      "4                 NaN                  NaN  \n",
      "\n",
      "[5 rows x 136 columns]\n"
     ]
    }
   ],
   "source": [
    "import pandas as pd\n",
    "data = pd.read_csv(\"2017-fCC-New-Coders-Survey-Data.csv\", low_memory=False)\n",
    "print(data.shape, \"\\n\")\n",
    "print(data.head())"
   ]
  },
  {
   "cell_type": "markdown",
   "metadata": {},
   "source": [
    "Three questions to learn:\n",
    "1. Where are these new coders located.\n",
    "2. What are the locations with the greatest number of new coders.\n",
    "3. How much money new coders are willing to spend on learning."
   ]
  },
  {
   "cell_type": "code",
   "execution_count": 2,
   "metadata": {
    "collapsed": false
   },
   "outputs": [
    {
     "name": "stdout",
     "output_type": "stream",
     "text": [
      "                                                    JobRoleInterest\n",
      "Full-Stack Web Developer                                  11.770595\n",
      "  Front-End Web Developer                                  6.435927\n",
      "  Data Scientist                                           2.173913\n",
      "Back-End Web Developer                                     2.030892\n",
      "  Mobile Developer                                         1.673341\n",
      "Game Developer                                             1.630435\n",
      "Information Security                                       1.315789\n",
      "Full-Stack Web Developer,   Front-End Web Devel...         0.915332\n",
      "  Front-End Web Developer, Full-Stack Web Devel...         0.800915\n",
      "  Product Manager                                          0.786613\n",
      "Data Engineer                                              0.758009\n",
      "  User Experience Designer                                 0.743707\n",
      "  User Experience Designer,   Front-End Web Dev...         0.614989\n",
      "  Front-End Web Developer, Back-End Web Develop...         0.557780\n",
      "  DevOps / SysAdmin                                        0.514874\n",
      "Back-End Web Developer,   Front-End Web Develop...         0.514874\n",
      "Back-End Web Developer, Full-Stack Web Develope...         0.514874\n",
      "Full-Stack Web Developer,   Front-End Web Devel...         0.443364\n",
      "  Front-End Web Developer, Full-Stack Web Devel...         0.429062\n",
      "Full-Stack Web Developer,   Mobile Developer               0.414760\n",
      "  Front-End Web Developer,   User Experience De...         0.414760\n",
      "Back-End Web Developer, Full-Stack Web Developer           0.386156\n",
      "Full-Stack Web Developer, Back-End Web Developer           0.371854\n",
      "Back-End Web Developer,   Front-End Web Developer          0.286041\n",
      "Data Engineer,   Data Scientist                            0.271739\n",
      "Full-Stack Web Developer, Back-End Web Develope...         0.271739\n",
      "  Front-End Web Developer,   Mobile Developer              0.257437\n",
      "Full-Stack Web Developer,   Data Scientist                 0.243135\n",
      "  Mobile Developer, Game Developer                         0.228833\n",
      "  Data Scientist, Data Engineer                            0.228833\n",
      "...                                                             ...\n",
      "  User Experience Designer, Full-Stack Web Deve...         0.014302\n",
      "  DevOps / SysAdmin, Full-Stack Web Developer, ...         0.014302\n",
      "  DevOps / SysAdmin, Data Engineer,   Mobile De...         0.014302\n",
      "  DevOps / SysAdmin,   Mobile Developer,   Fron...         0.014302\n",
      "Information Security, Back-End Web Developer,  ...         0.014302\n",
      "  Front-End Web Developer, Data Engineer, Full-...         0.014302\n",
      "Back-End Web Developer,   Front-End Web Develop...         0.014302\n",
      "Data Engineer, Information Security, Back-End W...         0.014302\n",
      "  Mobile Developer,   Front-End Web Developer, ...         0.014302\n",
      "Full-Stack Web Developer, Back-End Web Develope...         0.014302\n",
      "Full-Stack Web Developer, Back-End Web Develope...         0.014302\n",
      "Full-Stack Web Developer, Game Developer,   Mob...         0.014302\n",
      "Data Engineer,   Front-End Web Developer,   Mob...         0.014302\n",
      "Data Engineer,   DevOps / SysAdmin, Back-End We...         0.014302\n",
      "  Mobile Developer, Data Engineer,   Product Ma...         0.014302\n",
      "  Front-End Web Developer, Information Security...         0.014302\n",
      "  DevOps / SysAdmin, Full-Stack Web Developer, ...         0.014302\n",
      "  User Experience Designer,   Data Scientist,  ...         0.014302\n",
      "  Data Scientist, Information Security,   Mobil...         0.014302\n",
      "  Product Manager, Back-End Web Developer, Data...         0.014302\n",
      "Project manager                                            0.014302\n",
      "  Data Scientist,   DevOps / SysAdmin, Informat...         0.014302\n",
      "Information Security,   Data Scientist, Game De...         0.014302\n",
      "  DevOps / SysAdmin,   Data Scientist, Data Eng...         0.014302\n",
      "  Mobile Developer,   Front-End Web Developer, ...         0.014302\n",
      "Information Security,   Front-End Web Developer...         0.014302\n",
      "  Mobile Developer,   Front-End Web Developer, ...         0.014302\n",
      "  Front-End Web Developer, Back-End Web Develop...         0.014302\n",
      "  User Experience Designer,   Mobile Developer,...         0.014302\n",
      "  Data Scientist, Back-End Web Developer,   Mob...         0.014302\n",
      "\n",
      "[3213 rows x 1 columns]\n"
     ]
    }
   ],
   "source": [
    "# Calculate the frequency distribution of the roles that participants are interested in working\n",
    "job_freq_table = pd.DataFrame(data[\"JobRoleInterest\"].value_counts(normalize = True) * 100)\n",
    "print(job_freq_table)"
   ]
  },
  {
   "cell_type": "markdown",
   "metadata": {},
   "source": [
    "A lot of people are interested in web development (Full-Stack Web Developer + Front-End Web Developer + Back-End Web Developer, slightly higher than 20%, excluding those with more than one interests).\n",
    "Some of people are interested in mobile development (1.67%).\n",
    "There exist many people interested in other domains. This data set is still representative.\n",
    "Also, a lot of people are interested in more than one subject."
   ]
  },
  {
   "cell_type": "code",
   "execution_count": 3,
   "metadata": {
    "collapsed": false
   },
   "outputs": [
    {
     "data": {
      "text/plain": [
       "1     0.316505\n",
       "3     0.158896\n",
       "4     0.152174\n",
       "5     0.120423\n",
       "2     0.108839\n",
       "6     0.067220\n",
       "7     0.038616\n",
       "8     0.017592\n",
       "9     0.009868\n",
       "10    0.004720\n",
       "12    0.003003\n",
       "11    0.001859\n",
       "13    0.000286\n",
       "Name: JobRoleInterest, dtype: float64"
      ]
     },
     "execution_count": 3,
     "metadata": {},
     "output_type": "execute_result"
    }
   ],
   "source": [
    "# Drop rows with NaN and split\n",
    "job_interests = data['JobRoleInterest'].dropna().str.split(\",\")\n",
    "\n",
    "# Generate the frequency table for the number of interests\n",
    "job_interests.apply(lambda x: len(x)).value_counts(normalize = True)"
   ]
  },
  {
   "cell_type": "code",
   "execution_count": 4,
   "metadata": {
    "collapsed": false
   },
   "outputs": [
    {
     "name": "stdout",
     "output_type": "stream",
     "text": [
      "True     0.862414\n",
      "False    0.137586\n",
      "Name: JobRoleInterest, dtype: float64\n"
     ]
    }
   ],
   "source": [
    "print(data[\"JobRoleInterest\"].str.contains(\"Web Developer|Mobile Developer\").value_counts(normalize = True))"
   ]
  },
  {
   "cell_type": "code",
   "execution_count": 5,
   "metadata": {
    "collapsed": false
   },
   "outputs": [
    {
     "name": "stdout",
     "output_type": "stream",
     "text": [
      "                               absolute  relative\n",
      "United States of America       0.457005      3125\n",
      "India                          0.077216       528\n",
      "United Kingdom                 0.046066       315\n",
      "Canada                         0.038023       260\n",
      "Poland                         0.019158       131\n",
      "Brazil                         0.018865       129\n",
      "Germany                        0.018280       125\n",
      "Australia                      0.016379       112\n",
      "Russia                         0.014917       102\n",
      "Ukraine                        0.013016        89\n",
      "Nigeria                        0.012284        84\n",
      "Spain                          0.011261        77\n",
      "France                         0.010968        75\n",
      "Romania                        0.010383        71\n",
      "Netherlands (Holland, Europe)  0.009506        65\n",
      "Italy                          0.009067        62\n",
      "Serbia                         0.007605        52\n",
      "Philippines                    0.007605        52\n",
      "Greece                         0.006727        46\n",
      "Ireland                        0.006288        43\n",
      "South Africa                   0.005703        39\n",
      "Mexico                         0.005411        37\n",
      "Turkey                         0.005265        36\n",
      "Singapore                      0.004972        34\n",
      "Hungary                        0.004972        34\n",
      "New Zealand                    0.004826        33\n",
      "Croatia                        0.004680        32\n",
      "Argentina                      0.004680        32\n",
      "Sweden                         0.004533        31\n",
      "Indonesia                      0.004533        31\n",
      "...                                 ...       ...\n",
      "Cayman Islands                 0.000146         1\n",
      "Guadeloupe                     0.000146         1\n",
      "Anguilla                       0.000146         1\n",
      "Aruba                          0.000146         1\n",
      "Kyrgyzstan                     0.000146         1\n",
      "Cuba                           0.000146         1\n",
      "Angola                         0.000146         1\n",
      "Yemen                          0.000146         1\n",
      "Botswana                       0.000146         1\n",
      "Bolivia                        0.000146         1\n",
      "Myanmar                        0.000146         1\n",
      "Gibraltar                      0.000146         1\n",
      "Qatar                          0.000146         1\n",
      "Sudan                          0.000146         1\n",
      "Somalia                        0.000146         1\n",
      "Jordan                         0.000146         1\n",
      "Turkmenistan                   0.000146         1\n",
      "Mozambique                     0.000146         1\n",
      "Panama                         0.000146         1\n",
      "Liberia                        0.000146         1\n",
      "Trinidad & Tobago              0.000146         1\n",
      "Gambia                         0.000146         1\n",
      "Nicaragua                      0.000146         1\n",
      "Channel Islands                0.000146         1\n",
      "Vanuatu                        0.000146         1\n",
      "Nambia                         0.000146         1\n",
      "Guatemala                      0.000146         1\n",
      "Cameroon                       0.000146         1\n",
      "Papua New Guinea               0.000146         1\n",
      "Rwanda                         0.000146         1\n",
      "\n",
      "[137 rows x 2 columns]\n"
     ]
    }
   ],
   "source": [
    "# Analyze the locations\n",
    "# Drop rows with NaN\n",
    "data_filtered = data[data[\"JobRoleInterest\"].notnull()].copy()\n",
    "\n",
    "loc_freq_table = pd.DataFrame(data = {\"absolute\": data_filtered[\"CountryLive\"].value_counts(normalize = True),\n",
    "                                      \"relative\": data_filtered[\"CountryLive\"].value_counts()})\n",
    "print(loc_freq_table)"
   ]
  },
  {
   "cell_type": "markdown",
   "metadata": {},
   "source": [
    "US accounts for more than 40% while India, UK, and Canada follow with 7.7%, 4.6%, and 3.8%."
   ]
  },
  {
   "cell_type": "code",
   "execution_count": 6,
   "metadata": {
    "collapsed": false,
    "scrolled": true
   },
   "outputs": [
    {
     "name": "stdout",
     "output_type": "stream",
     "text": [
      "675\n"
     ]
    },
    {
     "data": {
      "text/plain": [
       "United States of America         2933\n",
       "India                             463\n",
       "United Kingdom                    279\n",
       "Canada                            240\n",
       "Poland                            122\n",
       "Germany                           114\n",
       "Brazil                            111\n",
       "Australia                         102\n",
       "Ukraine                            79\n",
       "Russia                             79\n",
       "Nigeria                            72\n",
       "Spain                              66\n",
       "Romania                            65\n",
       "France                             62\n",
       "Netherlands (Holland, Europe)      59\n",
       "Italy                              52\n",
       "Serbia                             44\n",
       "Philippines                        43\n",
       "Ireland                            41\n",
       "Greece                             40\n",
       "South Africa                       36\n",
       "Mexico                             33\n",
       "Turkey                             31\n",
       "Norway                             30\n",
       "Argentina                          30\n",
       "New Zealand                        30\n",
       "Hungary                            30\n",
       "Singapore                          29\n",
       "Denmark                            27\n",
       "Sweden                             27\n",
       "                                 ... \n",
       "Senegal                             2\n",
       "Bahrain                             2\n",
       "Iraq                                2\n",
       "Anguilla                            1\n",
       "Lebanon                             1\n",
       "Samoa                               1\n",
       "Guadeloupe                          1\n",
       "Angola                              1\n",
       "Paraguay                            1\n",
       "Gibraltar                           1\n",
       "Vanuatu                             1\n",
       "Botswana                            1\n",
       "Kyrgyzstan                          1\n",
       "Cayman Islands                      1\n",
       "Cuba                                1\n",
       "Papua New Guinea                    1\n",
       "Cameroon                            1\n",
       "Guatemala                           1\n",
       "Nambia                              1\n",
       "Channel Islands                     1\n",
       "Trinidad & Tobago                   1\n",
       "Nicaragua                           1\n",
       "Gambia                              1\n",
       "Yemen                               1\n",
       "Mozambique                          1\n",
       "Turkmenistan                        1\n",
       "Jordan                              1\n",
       "Somalia                             1\n",
       "Myanmar                             1\n",
       "Rwanda                              1\n",
       "Name: CountryLive, Length: 131, dtype: int64"
      ]
     },
     "execution_count": 6,
     "metadata": {},
     "output_type": "execute_result"
    }
   ],
   "source": [
    "# Analyze the money spend\n",
    "data_filtered[\"MonthsProgramming\"].replace(0, 1, inplace = True)\n",
    "\n",
    "data_filtered[\"MoneyPerMonth\"] = data_filtered[\"MoneyForLearning\"] / data_filtered[\"MonthsProgramming\"]\n",
    "\n",
    "print(sum(data_filtered[\"MoneyPerMonth\"].isnull()))\n",
    "\n",
    "data_filtered_v2 = data_filtered[data_filtered[\"MoneyPerMonth\"].notnull()]\n",
    "data_filtered_v3 = data_filtered_v2[data_filtered_v2[\"CountryLive\"].notnull()]\n",
    "\n",
    "data_filtered_v3[\"CountryLive\"].value_counts()"
   ]
  },
  {
   "cell_type": "code",
   "execution_count": 7,
   "metadata": {
    "collapsed": false
   },
   "outputs": [
    {
     "name": "stdout",
     "output_type": "stream",
     "text": [
      "CountryLive\n",
      "United States of America    227.997996\n",
      "India                       135.100982\n",
      "United Kingdom               45.534443\n",
      "Canada                      113.510961\n",
      "Name: MoneyPerMonth, dtype: float64\n"
     ]
    }
   ],
   "source": [
    "mean_by_country = data_filtered_v3.groupby(\"CountryLive\").mean()\n",
    "print(mean_by_country[\"MoneyPerMonth\"][[\"United States of America\", \"India\",\n",
    "                                        \"United Kingdom\", \"Canada\"]])"
   ]
  },
  {
   "cell_type": "code",
   "execution_count": 8,
   "metadata": {
    "collapsed": false,
    "scrolled": true
   },
   "outputs": [
    {
     "name": "stderr",
     "output_type": "stream",
     "text": [
      "/dataquest/system/env/python3/lib/python3.4/site-packages/seaborn/categorical.py:454: FutureWarning:\n",
      "\n",
      "remove_na is deprecated and is a private function. Do not use.\n",
      "\n"
     ]
    },
    {
     "data": {
      "image/png": "[encoded data removed]",
      "text/plain": [
       "<matplotlib.figure.Figure at 0x7f9ff522aac8>"
      ]
     },
     "metadata": {},
     "output_type": "display_data"
    }
   ],
   "source": [
    "# Boxplots for these four countries\n",
    "data_filtered_v4 = data_filtered_v3[data_filtered_v3[\"CountryLive\"].str.contains(\"United States of America|India|United Kingdom|Canada\")]\n",
    "\n",
    "import matplotlib.pyplot as plt\n",
    "import seaborn as sns\n",
    "%matplotlib inline\n",
    "\n",
    "sns.boxplot(y = \"MoneyPerMonth\", x = \"CountryLive\", data = data_filtered_v4)\n",
    "plt.ylabel(\"Money Per Month ($)\")\n",
    "plt.xlabel(\"Country\")\n",
    "plt.xticks(range(4), [\"US\", \"UK\", \"India\", \"Canada\"])\n",
    "plt.show()"
   ]
  },
  {
   "cell_type": "code",
   "execution_count": 9,
   "metadata": {
    "collapsed": false
   },
   "outputs": [
    {
     "name": "stdout",
     "output_type": "stream",
     "text": [
      "CountryLive\n",
      "Canada                      113.510961\n",
      "India                       135.100982\n",
      "United Kingdom               45.534443\n",
      "United States of America    183.800110\n",
      "Name: MoneyPerMonth, dtype: float64\n"
     ]
    },
    {
     "name": "stderr",
     "output_type": "stream",
     "text": [
      "/dataquest/system/env/python3/lib/python3.4/site-packages/seaborn/categorical.py:454: FutureWarning:\n",
      "\n",
      "remove_na is deprecated and is a private function. Do not use.\n",
      "\n"
     ]
    },
    {
     "data": {
      "image/png": "[encoded data removed]",
      "text/plain": [
       "<matplotlib.figure.Figure at 0x7f9ffa7cc128>"
      ]
     },
     "metadata": {},
     "output_type": "display_data"
    }
   ],
   "source": [
    "# Remove outliers with MoneyPerMonth > 20000\n",
    "data_filtered_v5 = data_filtered_v4[data_filtered_v4[\"MoneyPerMonth\"] < 20000]\n",
    "\n",
    "print(data_filtered_v5.groupby(\"CountryLive\").mean()[\"MoneyPerMonth\"])\n",
    "\n",
    "sns.boxplot(y = \"MoneyPerMonth\", x = \"CountryLive\", data = data_filtered_v5)\n",
    "plt.ylabel(\"Money Per Month ($)\")\n",
    "plt.xlabel(\"Country\")\n",
    "plt.xticks(range(4), [\"US\", \"UK\", \"India\", \"Canada\"])\n",
    "plt.show()"
   ]
  },
  {
   "cell_type": "code",
   "execution_count": 10,
   "metadata": {
    "collapsed": false
   },
   "outputs": [
    {
     "name": "stdout",
     "output_type": "stream",
     "text": [
      "        Age  AttendedBootcamp  BootcampFinish  BootcampLoanYesNo BootcampName  \\\n",
      "1728   24.0               0.0             NaN                NaN          NaN   \n",
      "1755   20.0               0.0             NaN                NaN          NaN   \n",
      "7989   28.0               0.0             NaN                NaN          NaN   \n",
      "8126   22.0               0.0             NaN                NaN          NaN   \n",
      "13398  19.0               0.0             NaN                NaN          NaN   \n",
      "15587  27.0               0.0             NaN                NaN          NaN   \n",
      "\n",
      "       BootcampRecommend  ChildrenNumber                 CityPopulation  \\\n",
      "1728                 NaN             NaN  between 100,000 and 1 million   \n",
      "1755                 NaN             NaN            more than 1 million   \n",
      "7989                 NaN             NaN  between 100,000 and 1 million   \n",
      "8126                 NaN             NaN            more than 1 million   \n",
      "13398                NaN             NaN            more than 1 million   \n",
      "15587                NaN             NaN            more than 1 million   \n",
      "\n",
      "       CodeEventConferences  CodeEventDjangoGirls      ...        \\\n",
      "1728                    NaN                   NaN      ...         \n",
      "1755                    NaN                   NaN      ...         \n",
      "7989                    1.0                   NaN      ...         \n",
      "8126                    NaN                   NaN      ...         \n",
      "13398                   NaN                   NaN      ...         \n",
      "15587                   NaN                   NaN      ...         \n",
      "\n",
      "       YouTubeFunFunFunction  YouTubeGoogleDev  YouTubeLearnCode  \\\n",
      "1728                     NaN               NaN               NaN   \n",
      "1755                     NaN               NaN               1.0   \n",
      "7989                     NaN               NaN               NaN   \n",
      "8126                     NaN               1.0               NaN   \n",
      "13398                    NaN               NaN               NaN   \n",
      "15587                    NaN               1.0               1.0   \n",
      "\n",
      "       YouTubeLevelUpTuts  YouTubeMIT  YouTubeMozillaHacks  YouTubeOther  \\\n",
      "1728                  NaN         NaN                  NaN           NaN   \n",
      "1755                  NaN         1.0                  NaN           NaN   \n",
      "7989                  NaN         NaN                  NaN           NaN   \n",
      "8126                  NaN         1.0                  NaN           NaN   \n",
      "13398                 NaN         NaN                  NaN           NaN   \n",
      "15587                 NaN         1.0                  NaN           NaN   \n",
      "\n",
      "      YouTubeSimplilearn  YouTubeTheNewBoston  MoneyPerMonth  \n",
      "1728                 NaN                  NaN    5000.000000  \n",
      "1755                 NaN                  NaN    3333.333333  \n",
      "7989                 NaN                  NaN    5000.000000  \n",
      "8126                 NaN                  1.0    5000.000000  \n",
      "13398                NaN                  NaN   10000.000000  \n",
      "15587                NaN                  NaN    4166.666667  \n",
      "\n",
      "[6 rows x 137 columns]\n"
     ]
    }
   ],
   "source": [
    "outliers_ind = data_filtered_v5[(data_filtered_v5[\"CountryLive\"] == \"India\") & \n",
    "                                (data_filtered_v5[\"MoneyPerMonth\"] >= 2500)]\n",
    "print(outliers_ind)\n",
    "\n",
    "data_filtered_v5 = data_filtered_v5.drop(outliers_ind.index)"
   ]
  },
  {
   "cell_type": "code",
   "execution_count": 11,
   "metadata": {
    "collapsed": false
   },
   "outputs": [
    {
     "name": "stdout",
     "output_type": "stream",
     "text": [
      "        Age  AttendedBootcamp  BootcampFinish  BootcampLoanYesNo  \\\n",
      "718    26.0               1.0             0.0                0.0   \n",
      "1222   32.0               1.0             0.0                0.0   \n",
      "3184   34.0               1.0             1.0                0.0   \n",
      "3930   31.0               0.0             NaN                NaN   \n",
      "6805   46.0               1.0             1.0                1.0   \n",
      "7198   32.0               0.0             NaN                NaN   \n",
      "7505   26.0               1.0             0.0                1.0   \n",
      "9778   33.0               1.0             0.0                1.0   \n",
      "16650  29.0               0.0             NaN                NaN   \n",
      "16997  27.0               0.0             NaN                NaN   \n",
      "17231  50.0               0.0             NaN                NaN   \n",
      "\n",
      "                                 BootcampName  BootcampRecommend  \\\n",
      "718    The Coding Boot Camp at UCLA Extension                1.0   \n",
      "1222                            The Iron Yard                1.0   \n",
      "3184                           We Can Code IT                1.0   \n",
      "3930                                      NaN                NaN   \n",
      "6805                                 Sabio.la                0.0   \n",
      "7198                                      NaN                NaN   \n",
      "7505                                   Codeup                0.0   \n",
      "9778                             Grand Circus                1.0   \n",
      "16650                                     NaN                NaN   \n",
      "16997                                     NaN                NaN   \n",
      "17231                                     NaN                NaN   \n",
      "\n",
      "       ChildrenNumber                 CityPopulation  CodeEventConferences  \\\n",
      "718               NaN            more than 1 million                   1.0   \n",
      "1222              NaN  between 100,000 and 1 million                   NaN   \n",
      "3184              NaN            more than 1 million                   NaN   \n",
      "3930              NaN  between 100,000 and 1 million                   NaN   \n",
      "6805              NaN  between 100,000 and 1 million                   NaN   \n",
      "7198              NaN            more than 1 million                   1.0   \n",
      "7505              NaN            more than 1 million                   NaN   \n",
      "9778              NaN  between 100,000 and 1 million                   NaN   \n",
      "16650             2.0            more than 1 million                   NaN   \n",
      "16997             1.0            more than 1 million                   NaN   \n",
      "17231             2.0              less than 100,000                   NaN   \n",
      "\n",
      "       CodeEventDjangoGirls      ...        YouTubeFunFunFunction  \\\n",
      "718                     NaN      ...                          NaN   \n",
      "1222                    NaN      ...                          NaN   \n",
      "3184                    NaN      ...                          NaN   \n",
      "3930                    NaN      ...                          1.0   \n",
      "6805                    NaN      ...                          NaN   \n",
      "7198                    NaN      ...                          NaN   \n",
      "7505                    NaN      ...                          NaN   \n",
      "9778                    NaN      ...                          NaN   \n",
      "16650                   NaN      ...                          NaN   \n",
      "16997                   NaN      ...                          NaN   \n",
      "17231                   NaN      ...                          NaN   \n",
      "\n",
      "       YouTubeGoogleDev  YouTubeLearnCode  YouTubeLevelUpTuts  YouTubeMIT  \\\n",
      "718                 NaN               NaN                 NaN         NaN   \n",
      "1222                NaN               1.0                 NaN         NaN   \n",
      "3184                NaN               NaN                 NaN         NaN   \n",
      "3930                1.0               1.0                 1.0         1.0   \n",
      "6805                NaN               NaN                 NaN         NaN   \n",
      "7198                1.0               1.0                 1.0         NaN   \n",
      "7505                NaN               NaN                 NaN         1.0   \n",
      "9778                NaN               NaN                 NaN         NaN   \n",
      "16650               NaN               NaN                 NaN         NaN   \n",
      "16997               NaN               NaN                 NaN         NaN   \n",
      "17231               NaN               NaN                 NaN         NaN   \n",
      "\n",
      "       YouTubeMozillaHacks                YouTubeOther YouTubeSimplilearn  \\\n",
      "718                    NaN                         NaN                NaN   \n",
      "1222                   NaN                         NaN                NaN   \n",
      "3184                   NaN                         NaN                NaN   \n",
      "3930                   NaN  various conf presentations                NaN   \n",
      "6805                   NaN                         NaN                NaN   \n",
      "7198                   NaN                         NaN                NaN   \n",
      "7505                   NaN                         NaN                NaN   \n",
      "9778                   NaN                         NaN                NaN   \n",
      "16650                  NaN                         NaN                NaN   \n",
      "16997                  NaN                         NaN                NaN   \n",
      "17231                  NaN                         NaN                NaN   \n",
      "\n",
      "       YouTubeTheNewBoston  MoneyPerMonth  \n",
      "718                    NaN    8000.000000  \n",
      "1222                   NaN    6500.000000  \n",
      "3184                   NaN    9000.000000  \n",
      "3930                   NaN   10833.333333  \n",
      "6805                   NaN   15000.000000  \n",
      "7198                   NaN   14000.000000  \n",
      "7505                   NaN    6666.666667  \n",
      "9778                   NaN    8000.000000  \n",
      "16650                  1.0   16666.666667  \n",
      "16997                  NaN   12500.000000  \n",
      "17231                  NaN   15000.000000  \n",
      "\n",
      "[11 rows x 137 columns]\n"
     ]
    }
   ],
   "source": [
    "outliers_us = data_filtered_v5[(data_filtered_v5[\"CountryLive\"] == \"United States of America\") & \n",
    "                                (data_filtered_v5[\"MoneyPerMonth\"] >= 6000)]\n",
    "print(outliers_us)"
   ]
  },
  {
   "cell_type": "code",
   "execution_count": 12,
   "metadata": {
    "collapsed": false
   },
   "outputs": [
    {
     "name": "stdout",
     "output_type": "stream",
     "text": [
      "        Age  AttendedBootcamp  BootcampFinish  BootcampLoanYesNo BootcampName  \\\n",
      "13659  24.0               1.0             0.0                0.0      Bloc.io   \n",
      "\n",
      "       BootcampRecommend  ChildrenNumber       CityPopulation  \\\n",
      "13659                1.0             NaN  more than 1 million   \n",
      "\n",
      "       CodeEventConferences  CodeEventDjangoGirls      ...        \\\n",
      "13659                   1.0                   NaN      ...         \n",
      "\n",
      "       YouTubeFunFunFunction  YouTubeGoogleDev  YouTubeLearnCode  \\\n",
      "13659                    NaN               NaN               NaN   \n",
      "\n",
      "       YouTubeLevelUpTuts  YouTubeMIT  YouTubeMozillaHacks  YouTubeOther  \\\n",
      "13659                 NaN         1.0                  NaN           NaN   \n",
      "\n",
      "      YouTubeSimplilearn  YouTubeTheNewBoston  MoneyPerMonth  \n",
      "13659                NaN                  NaN         5000.0  \n",
      "\n",
      "[1 rows x 137 columns]\n"
     ]
    }
   ],
   "source": [
    "outliers_ca = data_filtered_v5[(data_filtered_v5[\"CountryLive\"] == \"Canada\") & \n",
    "                                (data_filtered_v5[\"MoneyPerMonth\"] >= 4500)]\n",
    "print(outliers_ca)\n",
    "\n",
    "data_filtered_v5 = data_filtered_v5.drop(outliers_ca.index)"
   ]
  },
  {
   "cell_type": "code",
   "execution_count": 13,
   "metadata": {
    "collapsed": false
   },
   "outputs": [],
   "source": [
    "outliers_us_1 = data_filtered_v5[(data_filtered_v5[\"CountryLive\"] == \"United States of America\") & \n",
    "                                (data_filtered_v5[\"MoneyPerMonth\"] >= 6000) &\n",
    "                                (data_filtered_v5[\"AttendedBootcamp\"] == 0)]\n",
    "\n",
    "data_filtered_v5 = data_filtered_v5.drop(outliers_us_1.index)\n",
    "\n",
    "outliers_us_2 = data_filtered_v5[(data_filtered_v5[\"CountryLive\"] == \"United States of America\") & \n",
    "                                (data_filtered_v5[\"MoneyPerMonth\"] >= 6000) &\n",
    "                                (data_filtered_v5[\"MonthsProgramming\"] <= 3)]\n",
    "\n",
    "\n",
    "data_filtered_v5 = data_filtered_v5.drop(outliers_us_2.index)"
   ]
  },
  {
   "cell_type": "code",
   "execution_count": 15,
   "metadata": {
    "collapsed": false,
    "scrolled": true
   },
   "outputs": [
    {
     "name": "stdout",
     "output_type": "stream",
     "text": [
      "CountryLive\n",
      "Canada                       93.065400\n",
      "India                        65.758763\n",
      "United Kingdom               45.534443\n",
      "United States of America    142.654608\n",
      "Name: MoneyPerMonth, dtype: float64\n",
      "United States of America    0.749679\n",
      "India                       0.117330\n",
      "United Kingdom              0.071630\n",
      "Canada                      0.061361\n",
      "Name: CountryLive, dtype: float64\n"
     ]
    },
    {
     "name": "stderr",
     "output_type": "stream",
     "text": [
      "/dataquest/system/env/python3/lib/python3.4/site-packages/seaborn/categorical.py:454: FutureWarning:\n",
      "\n",
      "remove_na is deprecated and is a private function. Do not use.\n",
      "\n"
     ]
    },
    {
     "data": {
      "image/png": "[encoded data removed]",
      "text/plain": [
       "<matplotlib.figure.Figure at 0x7f9ffa34fef0>"
      ]
     },
     "metadata": {},
     "output_type": "display_data"
    }
   ],
   "source": [
    "# Show the final results\n",
    "print(data_filtered_v5.groupby(\"CountryLive\").mean()[\"MoneyPerMonth\"])\n",
    "print(data_filtered_v5[\"CountryLive\"].value_counts(normalize = True))\n",
    "\n",
    "sns.boxplot(y = \"MoneyPerMonth\", x = \"CountryLive\", data = data_filtered_v5)\n",
    "plt.ylabel(\"Money Per Month ($)\")\n",
    "plt.xlabel(\"Country\")\n",
    "plt.xticks(range(4), [\"US\", \"UK\", \"India\", \"Canada\"])\n",
    "plt.show()"
   ]
  },
  {
   "cell_type": "markdown",
   "metadata": {},
   "source": [
    "1st: US, 2nd: "
   ]
  }
 ],
 "metadata": {
  "kernelspec": {
   "display_name": "Python 3",
   "language": "python",
   "name": "python3"
  },
  "language_info": {
   "codemirror_mode": {
    "name": "ipython",
    "version": 3
   },
   "file_extension": ".py",
   "mimetype": "text/x-python",
   "name": "python",
   "nbconvert_exporter": "python",
   "pygments_lexer": "ipython3",
   "version": "3.4.3"
  }
 },
 "nbformat": 4,
 "nbformat_minor": 2
}
