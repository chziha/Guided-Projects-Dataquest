{
 "cells": [
  {
   "cell_type": "code",
   "execution_count": null,
   "metadata": {
    "collapsed": true
   },
   "outputs": [],
   "source": [
    "import pandas as pd\n",
    "import matplotlib.pyplot as plt\n",
    "import seaborn as sns\n",
    "import numpy as np\n",
    "\n",
    "from sklearn.linear_model import LinearRegression\n",
    "from sklearn.model_selection import KFold\n",
    "from sklearn.metrics import mean_squared_error"
   ]
  },
  {
   "cell_type": "code",
   "execution_count": null,
   "metadata": {
    "collapsed": false
   },
   "outputs": [],
   "source": [
    "data = pd.read_csv(\"AmesHousing.tsv\", delimiter=\"\\t\")\n",
    "data.info()"
   ]
  },
  {
   "cell_type": "code",
   "execution_count": null,
   "metadata": {
    "collapsed": true
   },
   "outputs": [],
   "source": [
    "def transform_features(data):\n",
    "    # Drop columns with more than 5% missing values\n",
    "    missing_counts = data.isnull().sum()\n",
    "    drop_missing_cols = missing_counts[missing_counts > len(data) / 20]\n",
    "    data = data.drop(drop_missing_cols.index, axis = 1)\n",
    "    \n",
    "    # Remove the text columns with missing values\n",
    "    missing_counts_txt = data.select_dtypes(include=['object']).isnull().sum()\n",
    "    drop_missing_cols2 = missing_counts_txt[missing_counts_txt > 0]\n",
    "    data = data.drop(drop_missing_cols2.index, axis=1)\n",
    "    \n",
    "    # Fill the missing values in numerical columns with the mode\n",
    "    missing_counts_num = data.select_dtypes(include=['int', 'float']).isnull().sum()\n",
    "    numeric_cols = missing_counts_num[missing_counts_num > 0]\n",
    "    replacement_dict = data[numeric_cols.index].mode().to_dict(orient='records')[0]\n",
    "    data = data.fillna(replacement_dict)\n",
    "    \n",
    "    # Add a new column\n",
    "    data[\"Years Before Sale\"] = data[\"Yr Sold\"] - data[\"Year Built\"]\n",
    "    data[\"Years Since Remod\"] = data[\"Yr Sold\"] - data[\"Year Remod/Add\"]\n",
    "    data = data[(data[\"Years Before Sale\"] >= 0) & (data[\"Years Since Remod\"] >= 0)]\n",
    "    data = data.drop([\"Year Built\", \"Year Remod/Add\"], axis = 1)\n",
    "    \n",
    "    # Remove unrelated features for machine learning\n",
    "    data = data.drop([\"PID\", \"Order\"], axis=1)\n",
    "    # Remove columns that leak info about the final sale\n",
    "    data = data.drop([\"Mo Sold\", \"Sale Condition\", \"Sale Type\"], axis=1)\n",
    "    return data"
   ]
  },
  {
   "cell_type": "code",
   "execution_count": null,
   "metadata": {
    "collapsed": false
   },
   "outputs": [],
   "source": [
    "def select_features(data, corr_thred = 0.3, uniq_thred = 10):\n",
    "    # Remove the featrues with weak correlations with the target\n",
    "    \n",
    "    abs_corr_coef = data.select_dtypes(include=[\"int\", \"float\"]).corr()['SalePrice'].abs()\n",
    "    data = data.drop(abs_corr_coef[abs_corr_coef < corr_thred].index, axis=1)\n",
    "\n",
    "    # Create dummy variables for categorical features\n",
    "    cat_features = [\"PID\", \"MS SubClass\", \"MS Zoning\", \"Street\", \"Alley\", \"Land Contour\", \"Lot Config\", \n",
    "                    \"Neighborhood\", \"Condition 1\", \"Condition 2\", \"Bldg Type\", \"House Style\", \"Roof Style\", \n",
    "                    \"Roof Matl\", \"Exterior 1st\", \"Exterior 2nd\", \"Mas Vnr Type\", \"Foundation\", \"Heating\", \n",
    "                    \"Central Air\", \"Garage Type\", \"Misc Feature\", \"Sale Type\", \"Sale Condition\"]\n",
    "    \n",
    "    # Check if included\n",
    "    cat_cols = []\n",
    "    for col in cat_features:\n",
    "        if col in data.columns:\n",
    "            cat_cols.append(col)\n",
    "\n",
    "    # Filter via unique value counts\n",
    "    uniq_counts = data[cat_cols].apply(lambda col: len(col.value_counts()), axis = 0)\n",
    "    uniq_col_drop = uniq_counts[uniq_counts > uniq_thred].index\n",
    "    data = data.drop(uniq_col_drop, axis = 1)\n",
    "    \n",
    "    # Get dummy variables and remove original columns\n",
    "    txt_cols = data.select_dtypes(include=[\"object\"])\n",
    "    data = pd.concat([data, pd.get_dummies(txt_cols)], axis=1)\n",
    "    data = data.drop(txt_cols, axis = 1)\n",
    "    \n",
    "    return data"
   ]
  },
  {
   "cell_type": "code",
   "execution_count": null,
   "metadata": {
    "collapsed": false
   },
   "outputs": [],
   "source": [
    "def train_and_test(data, k):\n",
    "    numerical_df = data.select_dtypes(include=[\"integer\", \"float\"])\n",
    "    numerical_features = numerical_df.columns.drop(\"SalePrice\")\n",
    "    lr = LinearRegression()\n",
    "    \n",
    "    if k == 0:\n",
    "        train = numerical_df.iloc[:1460]\n",
    "        test = numerical_df.iloc[1460:]\n",
    "        \n",
    "        lr.fit(train[numerical_features], train[\"SalePrice\"])\n",
    "        test_prediction = lr.predict(test[numerical_features])\n",
    "        test_mse = mean_squared_error(test[\"SalePrice\"], test_prediction)\n",
    "        test_rmse = np.sqrt(test_mse)\n",
    "        \n",
    "        return test_rmse\n",
    "    \n",
    "    if k == 1:\n",
    "        # Shuffle the ordering of all rows in the data frame\n",
    "        shuffled_df = data.sample(frac = 1, )\n",
    "        fold_one = shuffled_df.iloc[:1460]\n",
    "        fold_two = shuffled_df.iloc[1460:]\n",
    "        \n",
    "        lr.fit(fold_one[numerical_features], fold_one[\"SalePrice\"])\n",
    "        prediction2 = lr.predict(fold_two[numerical_features])\n",
    "        rmse2 = np.sqrt(mean_squared_error(fold_two[\"SalePrice\"], prediction2))\n",
    "        \n",
    "        lr.fit(fold_two[numerical_features], fold_two[\"SalePrice\"])\n",
    "        prediction1 = lr.predict(fold_one[numerical_features])\n",
    "        rmse1 = np.sqrt(mean_squared_error(fold_one[\"SalePrice\"], prediction1))\n",
    "        \n",
    "        test_rmse = (rmse1 + rmse2) / 2\n",
    "        \n",
    "        return test_rmse\n",
    "    else:\n",
    "        # Use K-Fold cross-validation\n",
    "        kf = KFold(n_splits = k, shuffle = True)\n",
    "        \n",
    "        rmse_list = []\n",
    "        \n",
    "        for train_index, test_index, in kf.split(data):\n",
    "            train = data.iloc[train_index]\n",
    "            test = data.iloc[test_index]\n",
    "            lr.fit(train[numerical_features], train[\"SalePrice\"])\n",
    "            prediction = lr.predict(test[numerical_features])\n",
    "            rmse = np.sqrt(mean_squared_error(test[\"SalePrice\"], prediction))\n",
    "            rmse_list.append(rmse)\n",
    "            \n",
    "        test_rmse = np.mean(rmse_list)\n",
    "        \n",
    "        return test_rmse"
   ]
  },
  {
   "cell_type": "code",
   "execution_count": null,
   "metadata": {
    "collapsed": false
   },
   "outputs": [],
   "source": [
    "data_transferred = transform_features(data)\n",
    "\n",
    "data_filtered = select_features(data_transferred)\n",
    "\n",
    "rmse = train_and_test(data_filtered, 3)\n",
    "\n",
    "print(rmse)"
   ]
  },
  {
   "cell_type": "code",
   "execution_count": null,
   "metadata": {
    "collapsed": false
   },
   "outputs": [],
   "source": [
    "# Visualize the correlations between features\n",
    "%matplotlib inline\n",
    "\n",
    "corr = data_transferred.select_dtypes(include=[\"integer\", \"float\"]).corr()\n",
    "\n",
    "sns.heatmap(corr)"
   ]
  }
 ],
 "metadata": {
  "anaconda-cloud": {},
  "kernelspec": {
   "display_name": "Python 3",
   "language": "python",
   "name": "python3"
  },
  "language_info": {
   "codemirror_mode": {
    "name": "ipython",
    "version": 3
   },
   "file_extension": ".py",
   "mimetype": "text/x-python",
   "name": "python",
   "nbconvert_exporter": "python",
   "pygments_lexer": "ipython3",
   "version": "3.4.3"
  }
 },
 "nbformat": 4,
 "nbformat_minor": 2
}
