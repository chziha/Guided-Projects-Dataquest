{
 "cells": [
  {
   "cell_type": "code",
   "execution_count": 2,
   "metadata": {},
   "outputs": [],
   "source": [
    "import pandas as pd\n",
    "from datetime import datetime\n",
    "\n",
    "df_stock = pd.read_csv(\"sphist.csv\")\n",
    "df_stock[\"Date\"] = pd.to_datetime(df_stock[\"Date\"])\n",
    "df_stock.sort_values(by = [\"Date\"], ascending=True, inplace = True)"
   ]
  },
  {
   "cell_type": "code",
   "execution_count": 8,
   "metadata": {},
   "outputs": [],
   "source": [
    "df_stock[\"avg_5\"] = df_stock[\"Close\"].rolling(window = 5).mean().shift(1)\n",
    "df_stock[\"avg_30\"] = df_stock[\"Close\"].rolling(window = 30).mean().shift(1)\n",
    "df_stock[\"avg_365\"] = df_stock[\"Close\"].rolling(window = 365).mean().shift(1)\n",
    "\n",
    "df_stock[\"std_5\"] = df_stock[\"Close\"].rolling(window = 5).std().shift(1)\n",
    "df_stock[\"std_365\"] = df_stock[\"Close\"].rolling(window = 365).std().shift(1)\n",
    "\n",
    "df_stock[\"ratio_avg\"] = df_stock[\"avg_5\"] / df_stock[\"avg_365\"]\n",
    "df_stock[\"ratio_std\"] = df_stock[\"std_5\"] / df_stock[\"std_365\"]"
   ]
  },
  {
   "cell_type": "code",
   "execution_count": 10,
   "metadata": {},
   "outputs": [],
   "source": [
    "df_stock = df_stock[df_stock[\"Date\"] > datetime(year=1951, month=1, day=2)]\n",
    "df_stock.dropna(axis = 0, inplace = True)\n",
    "\n",
    "train = df_stock[df_stock[\"Date\"] < datetime(year=2013, month=1, day=1)]\n",
    "test = df_stock[df_stock[\"Date\"] >= datetime(year=2013, month=1, day=1)]"
   ]
  },
  {
   "cell_type": "code",
   "execution_count": 11,
   "metadata": {},
   "outputs": [
    {
     "name": "stdout",
     "output_type": "stream",
     "text": [
      "mse is  492.92303444504256\n",
      "mse2 is  490.5131162779189\n"
     ]
    }
   ],
   "source": [
    "from sklearn.linear_model import LinearRegression\n",
    "from sklearn.metrics import mean_squared_error\n",
    "\n",
    "model_lr = LinearRegression()\n",
    "model_lr2 = LinearRegression()\n",
    "\n",
    "features_cols = [\"avg_5\", \"avg_30\", \"avg_365\", \"std_5\", \"std_365\", \"ratio_avg\", \"ratio_std\"]\n",
    "features_cols2 = [\"avg_5\", \"avg_365\", \"std_5\", \"std_365\"]\n",
    "\n",
    "model_lr.fit(train[features_cols], train[\"Close\"])\n",
    "predictions = model_lr.predict(test[features_cols])\n",
    "\n",
    "model_lr2.fit(train[features_cols2], train[\"Close\"])\n",
    "predictions2 = model_lr2.predict(test[features_cols2])\n",
    "\n",
    "mse = mean_squared_error(test[\"Close\"], predictions)\n",
    "mse2 = mean_squared_error(test[\"Close\"], predictions2)\n",
    "\n",
    "print(\"mse is \", mse)\n",
    "print(\"mse2 is \", mse2)"
   ]
  }
 ],
 "metadata": {
  "kernelspec": {
   "display_name": "Python 3",
   "language": "python",
   "name": "python3"
  },
  "language_info": {
   "codemirror_mode": {
    "name": "ipython",
    "version": 3
   },
   "file_extension": ".py",
   "mimetype": "text/x-python",
   "name": "python",
   "nbconvert_exporter": "python",
   "pygments_lexer": "ipython3",
   "version": "3.7.3"
  }
 },
 "nbformat": 4,
 "nbformat_minor": 2
}
