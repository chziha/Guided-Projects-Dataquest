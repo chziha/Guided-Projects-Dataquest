{
 "cells": [
  {
   "cell_type": "markdown",
   "metadata": {
    "collapsed": true
   },
   "source": [
    "# Exploring Hacker News Posts\n",
    "### We would like to compare the two types of posts to determine the following questions:<br>Do Ask HN or Show HN receive more comments on average?<br>Do posts created at a certain time receive more comments on average?"
   ]
  },
  {
   "cell_type": "code",
   "execution_count": 1,
   "metadata": {
    "collapsed": false
   },
   "outputs": [
    {
     "data": {
      "text/plain": [
       "[['id', 'title', 'url', 'num_points', 'num_comments', 'author', 'created_at'],\n",
       " ['12224879',\n",
       "  'Interactive Dynamic Video',\n",
       "  'http://www.interactivedynamicvideo.com/',\n",
       "  '386',\n",
       "  '52',\n",
       "  'ne0phyte',\n",
       "  '8/4/2016 11:52'],\n",
       " ['10975351',\n",
       "  'How to Use Open Source and Shut the Fuck Up at the Same Time',\n",
       "  'http://hueniverse.com/2016/01/26/how-to-use-open-source-and-shut-the-fuck-up-at-the-same-time/',\n",
       "  '39',\n",
       "  '10',\n",
       "  'josep2',\n",
       "  '1/26/2016 19:30'],\n",
       " ['11964716',\n",
       "  \"Florida DJs May Face Felony for April Fools' Water Joke\",\n",
       "  'http://www.thewire.com/entertainment/2013/04/florida-djs-april-fools-water-joke/63798/',\n",
       "  '2',\n",
       "  '1',\n",
       "  'vezycash',\n",
       "  '6/23/2016 22:20'],\n",
       " ['11919867',\n",
       "  'Technology ventures: From Idea to Enterprise',\n",
       "  'https://www.amazon.com/Technology-Ventures-Enterprise-Thomas-Byers/dp/0073523429',\n",
       "  '3',\n",
       "  '1',\n",
       "  'hswarna',\n",
       "  '6/17/2016 0:01']]"
      ]
     },
     "execution_count": 1,
     "metadata": {},
     "output_type": "execute_result"
    }
   ],
   "source": [
    "# We first start from reading the data set and saving it as a list of lists\n",
    "from csv import reader\n",
    "open_file = open(\"hacker_news.csv\")\n",
    "read_file = reader(open_file)\n",
    "hn = list(read_file)\n",
    "\n",
    "# Display the first five rows to have an idea of the format of the data set\n",
    "hn[0:5]"
   ]
  },
  {
   "cell_type": "code",
   "execution_count": 2,
   "metadata": {
    "collapsed": false
   },
   "outputs": [
    {
     "name": "stdout",
     "output_type": "stream",
     "text": [
      "The header is  ['id', 'title', 'url', 'num_points', 'num_comments', 'author', 'created_at'] \n",
      "\n",
      "The first five rows of the data are  [['12224879', 'Interactive Dynamic Video', 'http://www.interactivedynamicvideo.com/', '386', '52', 'ne0phyte', '8/4/2016 11:52'], ['10975351', 'How to Use Open Source and Shut the Fuck Up at the Same Time', 'http://hueniverse.com/2016/01/26/how-to-use-open-source-and-shut-the-fuck-up-at-the-same-time/', '39', '10', 'josep2', '1/26/2016 19:30'], ['11964716', \"Florida DJs May Face Felony for April Fools' Water Joke\", 'http://www.thewire.com/entertainment/2013/04/florida-djs-april-fools-water-joke/63798/', '2', '1', 'vezycash', '6/23/2016 22:20'], ['11919867', 'Technology ventures: From Idea to Enterprise', 'https://www.amazon.com/Technology-Ventures-Enterprise-Thomas-Byers/dp/0073523429', '3', '1', 'hswarna', '6/17/2016 0:01'], ['10301696', 'Note by Note: The Making of Steinway L1037 (2007)', 'http://www.nytimes.com/2007/11/07/movies/07stein.html?_r=0', '8', '2', 'walterbell', '9/30/2015 4:12']]\n"
     ]
    }
   ],
   "source": [
    "# Separate the data set into the header and data parts\n",
    "headers = hn[0]\n",
    "hn = hn[1:]\n",
    "print(\"The header is \", headers, \"\\n\")\n",
    "print(\"The first five rows of the data are \", hn[:5])"
   ]
  },
  {
   "cell_type": "code",
   "execution_count": 3,
   "metadata": {
    "collapsed": false
   },
   "outputs": [
    {
     "name": "stdout",
     "output_type": "stream",
     "text": [
      "The number of posts in 'ask hn' is  1744 \n",
      "\n",
      "The number of posts in 'show hn' is  1162 \n",
      "\n",
      "The number of posts in 'others' is  17194 \n",
      "\n",
      "[['12296411', 'Ask HN: How to improve my personal website?', '', '2', '6', 'ahmedbaracat', '8/16/2016 9:55'], ['10610020', 'Ask HN: Am I the only one outraged by Twitter shutting down share counts?', '', '28', '29', 'tkfx', '11/22/2015 13:43'], ['11610310', 'Ask HN: Aby recent changes to CSS that broke mobile?', '', '1', '1', 'polskibus', '5/2/2016 10:14'], ['12210105', 'Ask HN: Looking for Employee #3 How do I do it?', '', '1', '3', 'sph130', '8/2/2016 14:20'], ['10394168', 'Ask HN: Someone offered to buy my browser extension from me. What now?', '', '28', '17', 'roykolak', '10/15/2015 16:38']] \n",
      "\n",
      "[['10627194', 'Show HN: Wio Link  ESP8266 Based Web of Things Hardware Development Platform', 'https://iot.seeed.cc', '26', '22', 'kfihihc', '11/25/2015 14:03'], ['10646440', 'Show HN: Something pointless I made', 'http://dn.ht/picklecat/', '747', '102', 'dhotson', '11/29/2015 22:46'], ['11590768', 'Show HN: Shanhu.io, a programming playground powered by e8vm', 'https://shanhu.io', '1', '1', 'h8liu', '4/28/2016 18:05'], ['12178806', 'Show HN: Webscope  Easy way for web developers to communicate with Clients', 'http://webscopeapp.com', '3', '3', 'fastbrick', '7/28/2016 7:11'], ['10872799', 'Show HN: GeoScreenshot  Easily test Geo-IP based web pages', 'https://www.geoscreenshot.com/', '1', '9', 'kpsychwave', '1/9/2016 20:45']]\n"
     ]
    }
   ],
   "source": [
    "# Categorize all the posts into three types: ask, show, and others\n",
    "ask_posts = []\n",
    "show_posts = []\n",
    "other_posts = []\n",
    "\n",
    "for row in hn:\n",
    "    title = row[1].lower()\n",
    "    if title.startswith(\"ask hn\"):\n",
    "        ask_posts.append(row)\n",
    "    elif title.startswith(\"show hn\"):\n",
    "        show_posts.append(row)\n",
    "    else:\n",
    "        other_posts.append(row)\n",
    "\n",
    "print(\"The number of posts in 'ask hn' is \", len(ask_posts), \"\\n\")\n",
    "print(\"The number of posts in 'show hn' is \", len(show_posts), \"\\n\")\n",
    "print(\"The number of posts in 'others' is \", len(other_posts), \"\\n\")\n",
    "\n",
    "# Check several staring rows\n",
    "print(ask_posts[:5], \"\\n\")\n",
    "print(show_posts[:5])"
   ]
  },
  {
   "cell_type": "code",
   "execution_count": 4,
   "metadata": {
    "collapsed": false
   },
   "outputs": [
    {
     "name": "stdout",
     "output_type": "stream",
     "text": [
      "The average number of comments received for ask posts is  14.038417431192661 \n",
      "\n",
      "The average number of comments received for show posts is  10.31669535283993 \n",
      "\n"
     ]
    }
   ],
   "source": [
    "# The next step is to find the average comments received for the ask posts and show posts\n",
    "total_ask_comments = 0\n",
    "total_show_comments = 0\n",
    "\n",
    "for row in ask_posts:\n",
    "    num_comments = int(row[4])\n",
    "    total_ask_comments += num_comments\n",
    "    \n",
    "avg_ask_comments = total_ask_comments / len(ask_posts)\n",
    "\n",
    "for row in show_posts:\n",
    "    num_comments = int(row[4])\n",
    "    total_show_comments += num_comments\n",
    "    \n",
    "avg_show_comments = total_show_comments / len(show_posts)\n",
    "\n",
    "print(\"The average number of comments received for ask posts is \", avg_ask_comments, \"\\n\")\n",
    "print(\"The average number of comments received for show posts is \", avg_show_comments, \"\\n\")"
   ]
  },
  {
   "cell_type": "markdown",
   "metadata": {},
   "source": [
    "The average number of comments received for ask posts is about 14 while its is around 10 for a show post, we can clearly see the difference between these two types of posts that the ask posts receive abouth 40% more comments than the show posts. However, we also notice that, the average number of comments received for both types of posts are lmited.\n",
    "Since the ask posts receive more comments on average, we will focus our further analysis on ask posts."
   ]
  },
  {
   "cell_type": "code",
   "execution_count": 5,
   "metadata": {
    "collapsed": false
   },
   "outputs": [],
   "source": [
    "# These ask posts will be separated by the time period they were posted and the analysis will be based on this\n",
    "import datetime as dt\n",
    "result_list = []\n",
    "\n",
    "# Store the pairs of the creating time and the number of comments for a post into a list\n",
    "for row in ask_posts:\n",
    "    creat_time = row[6]\n",
    "    num_comments = int(row[4])\n",
    "    result_list.append([creat_time, num_comments])\n",
    "\n",
    "counts_by_hour = {}\n",
    "comments_by_hour = {}\n",
    "\n",
    "# Store the number of posts created and corresponding number of comments based on the hour they were created\n",
    "for row in result_list:\n",
    "    creat_time_dt = dt.datetime.strptime(row[0], \"%m/%d/%Y %H:%M\")\n",
    "    creat_hour_dt = creat_time_dt.strftime(\"%H\")\n",
    "    if creat_hour_dt not in counts_by_hour:\n",
    "        counts_by_hour[creat_hour_dt] = 1\n",
    "        comments_by_hour[creat_hour_dt] = int(row[1])\n",
    "    else:\n",
    "        counts_by_hour[creat_hour_dt] += 1\n",
    "        comments_by_hour[creat_hour_dt] += int(row[1])"
   ]
  },
  {
   "cell_type": "code",
   "execution_count": 6,
   "metadata": {
    "collapsed": false
   },
   "outputs": [
    {
     "name": "stdout",
     "output_type": "stream",
     "text": [
      "[['01', 11.383333333333333], ['06', 9.022727272727273], ['07', 7.852941176470588], ['03', 7.796296296296297], ['21', 16.009174311926607], ['18', 13.20183486238532], ['23', 7.985294117647059], ['09', 5.5777777777777775], ['12', 9.41095890410959], ['14', 13.233644859813085], ['05', 10.08695652173913], ['20', 21.525], ['19', 10.8], ['04', 7.170212765957447], ['02', 23.810344827586206], ['13', 14.741176470588234], ['15', 38.5948275862069], ['10', 13.440677966101696], ['00', 8.127272727272727], ['22', 6.746478873239437], ['08', 10.25], ['16', 16.796296296296298], ['17', 11.46], ['11', 11.051724137931034]]\n"
     ]
    }
   ],
   "source": [
    "# Calculate the average number of comments for the postes created during different hours\n",
    "avg_by_hour = []\n",
    "\n",
    "# Iterate over the hours to calculate the average numbers of comments\n",
    "for key in counts_by_hour:\n",
    "    avg_num_comments = comments_by_hour[key] / counts_by_hour[key]\n",
    "    avg_by_hour.append([key, avg_num_comments])\n",
    "\n",
    "print(avg_by_hour)"
   ]
  },
  {
   "cell_type": "code",
   "execution_count": 7,
   "metadata": {
    "collapsed": false
   },
   "outputs": [
    {
     "name": "stdout",
     "output_type": "stream",
     "text": [
      "[[11.383333333333333, '01'], [9.022727272727273, '06'], [7.852941176470588, '07'], [7.796296296296297, '03'], [16.009174311926607, '21'], [13.20183486238532, '18'], [7.985294117647059, '23'], [5.5777777777777775, '09'], [9.41095890410959, '12'], [13.233644859813085, '14'], [10.08695652173913, '05'], [21.525, '20'], [10.8, '19'], [7.170212765957447, '04'], [23.810344827586206, '02'], [14.741176470588234, '13'], [38.5948275862069, '15'], [13.440677966101696, '10'], [8.127272727272727, '00'], [6.746478873239437, '22'], [10.25, '08'], [16.796296296296298, '16'], [11.46, '17'], [11.051724137931034, '11']]\n",
      "Top 5 Hours for Ask Posts Comments\n",
      "15:00: 38.5948275862069 average comments per post\n",
      "02:00: 23.810344827586206 average comments per post\n",
      "20:00: 21.525 average comments per post\n",
      "16:00: 16.796296296296298 average comments per post\n",
      "21:00: 16.009174311926607 average comments per post\n"
     ]
    }
   ],
   "source": [
    "# Re-format the result for easier reading purpose\n",
    "swap_avg_by_hour = []\n",
    "\n",
    "# Make the first element in the each list in the list of lists be the number for sorting\n",
    "for row in avg_by_hour:\n",
    "    swap_avg_by_hour.append([row[1], row[0]])\n",
    "\n",
    "print(swap_avg_by_hour)\n",
    "\n",
    "# Sort by the average number of comments in a reverse order\n",
    "sorted_swap = sorted(swap_avg_by_hour, reverse = True)\n",
    "\n",
    "print(\"Top 5 Hours for Ask Posts Comments\")\n",
    "\n",
    "# Print the top 5 hours for ask posts comments with a specific format\n",
    "for row in sorted_swap[:5]:\n",
    "    output_time_dt = dt.datetime.strptime(row[1], \"%H\")\n",
    "    output_time_str = output_time_dt.strftime(\"%H:%M\")\n",
    "    output = \"{}: {} average comments per post\".format(output_time_str, row[0])\n",
    "    print(output)"
   ]
  },
  {
   "cell_type": "markdown",
   "metadata": {},
   "source": [
    "We can clearly see that the average number of comments of posts created at 15:00 is around 38, which is much higher than all other times. The runner-ups are 02:00 and 20:00 with the average numbers of comments greater than 20.\n",
    "Since the time zone in the data set used is the Eastern Time in the US, which is the same as I live in, the best time to create a post to receive more comments during the day is 15:00."
   ]
  }
 ],
 "metadata": {
  "kernelspec": {
   "display_name": "Python 3",
   "language": "python",
   "name": "python3"
  },
  "language_info": {
   "codemirror_mode": {
    "name": "ipython",
    "version": 3
   },
   "file_extension": ".py",
   "mimetype": "text/x-python",
   "name": "python",
   "nbconvert_exporter": "python",
   "pygments_lexer": "ipython3",
   "version": "3.4.3"
  }
 },
 "nbformat": 4,
 "nbformat_minor": 2
}
